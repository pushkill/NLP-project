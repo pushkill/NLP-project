{
 "cells": [
  {
   "cell_type": "code",
   "execution_count": 6,
   "id": "8b78fe46-2f4a-4821-a490-235a5042a0dd",
   "metadata": {},
   "outputs": [],
   "source": [
    "import pandas as pd\n",
    "import nltk\n",
    "import os"
   ]
  },
  {
   "cell_type": "code",
   "execution_count": 32,
   "id": "1f16f739-bd9b-41c2-83e5-4d673e5e8568",
   "metadata": {},
   "outputs": [],
   "source": [
    "kaggle_datasets_path = 'C:\\\\Users\\\\hladn\\\\FAKS\\\\magisterij\\\\Natural language processing\\\\assignment\\\\datasets\\\\kaggle'\n",
    "word_datasets_preprocessed_path = 'C:\\\\Users\\\\hladn\\\\FAKS\\\\magisterij\\\\Natural language processing\\\\assignment\\\\datasets\\\\word_datasets_preprocessed'\n"
   ]
  },
  {
   "cell_type": "markdown",
   "id": "039235ac-37a6-4389-90b6-b7ee45b61193",
   "metadata": {},
   "source": [
    "### process dataset https://www.kaggle.com/c/jigsaw-toxic-comment-classification-challenge/data \n",
    "select records with labels: insult, threat, obscene"
   ]
  },
  {
   "cell_type": "code",
   "execution_count": 39,
   "id": "63a6dd61-aefc-4569-bf0e-11609a5695d2",
   "metadata": {},
   "outputs": [],
   "source": [
    "toxic_comments_classification_challenge = 'train_toxic_comment_classification_challenge.csv'\n",
    "dataset_path = os.path.join(kaggle_datasets_path, toxic_comments_classification_challenge)\n",
    "df = pd.read_csv(dataset_path)"
   ]
  },
  {
   "cell_type": "code",
   "execution_count": 50,
   "id": "6cc56174-2d97-41ed-9466-c7fcaf7780b9",
   "metadata": {},
   "outputs": [],
   "source": [
    "toxic_comments_classification_challenge = 'train_toxic_comment_classification_challenge.csv'\n",
    "dataset_path = os.path.join(kaggle_datasets_path, toxic_comments_classification_challenge)\n",
    "df = pd.read_csv(dataset_path)\n",
    "\n",
    "df_insult = df[df['insult']==1].copy()\n",
    "df_insult = df_insult.drop(columns=['toxic', 'severe_toxic', 'obscene', 'threat', 'insult', 'identity_hate', 'id'])\n",
    "df_insult['label'] = 'insult'\n",
    "df_insult = df_insult.rename(columns={\"comment_text\": \"text\"})\n",
    "df_insult.to_csv(os.path.join(word_datasets_preprocessed_path, 'insult.csv'), index = False)\n",
    "\n",
    "df_threat = df[df['threat']==1].copy()\n",
    "df_threat = df_threat.drop(columns=['toxic', 'severe_toxic', 'obscene', 'threat', 'insult', 'identity_hate', 'id'])\n",
    "df_threat['label'] = 'threat'\n",
    "df_threat = df_threat.rename(columns={\"comment_text\": \"text\"})\n",
    "df_threat.to_csv(os.path.join(word_datasets_preprocessed_path, 'threat.csv'), index = False)\n",
    "\n",
    "df_obscene = df[df['obscene']==1].copy()\n",
    "df_obscene = df_obscene.drop(columns=['toxic', 'severe_toxic', 'obscene', 'threat', 'insult', 'identity_hate', 'id'])\n",
    "df_obscene['label'] = 'obscene'\n",
    "df_obscene = df_obscene.rename(columns={\"comment_text\": \"text\"})\n",
    "df_obscene.to_csv(os.path.join(word_datasets_preprocessed_path, 'obscene.csv'), index = False)\n",
    "\n",
    "#df_obscene\n"
   ]
  },
  {
   "cell_type": "code",
   "execution_count": null,
   "id": "9fbab50a-4b67-4552-8348-34729c220a13",
   "metadata": {},
   "outputs": [],
   "source": [
    "# process dataset "
   ]
  },
  {
   "cell_type": "code",
   "execution_count": null,
   "id": "9aab2dd6-7e0d-4b94-8025-4d6c602d3dc4",
   "metadata": {},
   "outputs": [],
   "source": []
  },
  {
   "cell_type": "code",
   "execution_count": null,
   "id": "42d8c0ce-9bbe-40b3-8a62-b3043193be7b",
   "metadata": {},
   "outputs": [],
   "source": []
  }
 ],
 "metadata": {
  "kernelspec": {
   "display_name": "Python 3",
   "language": "python",
   "name": "python3"
  },
  "language_info": {
   "codemirror_mode": {
    "name": "ipython",
    "version": 3
   },
   "file_extension": ".py",
   "mimetype": "text/x-python",
   "name": "python",
   "nbconvert_exporter": "python",
   "pygments_lexer": "ipython3",
   "version": "3.9.2"
  }
 },
 "nbformat": 4,
 "nbformat_minor": 5
}
