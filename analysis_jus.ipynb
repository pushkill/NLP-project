{
 "cells": [
  {
   "cell_type": "code",
   "execution_count": 139,
   "id": "7ff9130b-d516-4363-895b-e9acfff998a9",
   "metadata": {},
   "outputs": [
    {
     "name": "stderr",
     "output_type": "stream",
     "text": [
      "[nltk_data] Downloading package stopwords to\n",
      "[nltk_data]     C:\\Users\\hladn\\AppData\\Roaming\\nltk_data...\n",
      "[nltk_data]   Package stopwords is already up-to-date!\n",
      "[nltk_data] Downloading package punkt to\n",
      "[nltk_data]     C:\\Users\\hladn\\AppData\\Roaming\\nltk_data...\n",
      "[nltk_data]   Package punkt is already up-to-date!\n",
      "[nltk_data] Downloading package wordnet to\n",
      "[nltk_data]     C:\\Users\\hladn\\AppData\\Roaming\\nltk_data...\n",
      "[nltk_data]   Package wordnet is already up-to-date!\n"
     ]
    },
    {
     "data": {
      "text/plain": [
       "True"
      ]
     },
     "execution_count": 139,
     "metadata": {},
     "output_type": "execute_result"
    }
   ],
   "source": [
    "import pandas as pd\n",
    "import seaborn as sns\n",
    "import nltk\n",
    "import os\n",
    "from nltk.tokenize import word_tokenize\n",
    "from nltk.corpus import stopwords\n",
    "from nltk.stem.wordnet import WordNetLemmatizer\n",
    "from nltk.stem.porter import PorterStemmer\n",
    "from nltk.stem import SnowballStemmer\n",
    "import string\n",
    "import re\n",
    "from collections import Counter\n",
    "\n",
    "\n",
    "nltk.download('stopwords')\n",
    "nltk.download('punkt')\n",
    "nltk.download('wordnet')"
   ]
  },
  {
   "cell_type": "code",
   "execution_count": 129,
   "id": "2d6cc5b2-8152-4cc6-856b-477de3960273",
   "metadata": {},
   "outputs": [],
   "source": [
    "cwd = os.getcwd()\n",
    "df = pd.read_csv( os.path.join(cwd, 'full_dataset_all_labels.csv'))\n",
    "stop_words=set(stopwords.words('english') + list(string.punctuation))"
   ]
  },
  {
   "cell_type": "code",
   "execution_count": null,
   "id": "24417d4b-1d02-420c-9bc3-dc33ac760449",
   "metadata": {},
   "outputs": [],
   "source": [
    "i=21750\n",
    "print(df['text'].iloc[i])\n",
    "#print(df['tokenized_text'].iloc[i])\n",
    "df[df['text'].str.contains(\"<USER> that's not how it works\")]"
   ]
  },
  {
   "cell_type": "code",
   "execution_count": 131,
   "id": "17b57fa7-e31f-4298-b035-f75ded6033bd",
   "metadata": {},
   "outputs": [],
   "source": [
    "def print_some_texts(columns):\n",
    "    text_idxs = [47, 7240, 7241, 8013, 14500, 16500, 16304, 18300,  21750, 34036, 45159, 71920]\n",
    "    for i in text_idxs:\n",
    "        for column in columns:\n",
    "            print(df[column].iloc[i])\n",
    "#print_some_texts(['text'])\n",
    "\n",
    "def tokenize(text):\n",
    "    #print(text)\n",
    "    text = preprocess_text(text)\n",
    "    #print(text)\n",
    "    tokens = word_tokenize(text)\n",
    "    filtered_tokens = []\n",
    "    # Filter out any tokens not containing letters (e.g., numeric tokens, raw punctuation). (adapted from lab example)\n",
    "    for token in tokens:\n",
    "        if re.search('[a-zA-Z]', token):\n",
    "            filtered_tokens.append(token)\n",
    "    return filtered_tokens\n",
    "    \n",
    "\n",
    "def preprocess_text(text):\n",
    "    text = re.sub(r\"http\\S+\", \" \", text)            # remove urls\n",
    "    text = re.sub('<USER>', '', text)               # remove '<USER>' as there are some such strings as user or url is masked with this string\n",
    "    text = re.sub('<URL>', '', text)\n",
    "    text = re.sub('[^a-zA-Z]', ' ', text)           # Remove punctuations\n",
    "    text = text.lower()                             # Convert to lowercase\n",
    "    text = re.sub(\"&lt;/?.*?&gt;\",\" &lt;&gt; \",text)#remove tags\n",
    "    text = re.sub(\"(\\\\d|\\\\W)+\",\" \",text)            # remove special characters and digits\n",
    "    return text\n",
    "    \n",
    "    \n",
    "def stemming(tokens):\n",
    "    stemmer = SnowballStemmer(\"english\")\n",
    "    stems = [stemmer.stem(token) for token in tokens if (token not in stop_words)]\n",
    "    return stems\n",
    "\n",
    "from nltk.stem import WordNetLemmatizer\n",
    "def lemmatizing(tokens):\n",
    "    lemmatizer = WordNetLemmatizer()\n",
    "    lemmas = [lemmatizer.lemmatize(token) for token in tokens]\n",
    "    return lemmas"
   ]
  },
  {
   "cell_type": "code",
   "execution_count": 132,
   "id": "3e5e7692-5d13-4017-9450-7a0fea4d16aa",
   "metadata": {},
   "outputs": [],
   "source": [
    "df['preprocessed_text']=df['text'].apply(preprocess_text)\n",
    "df['tokenized_text']= df['text'].apply(tokenize) \n",
    "df['stems']= df['tokenized_text'].apply(stemming) "
   ]
  },
  {
   "cell_type": "code",
   "execution_count": 124,
   "id": "7565a290-be85-4018-881d-f76555aead68",
   "metadata": {},
   "outputs": [],
   "source": []
  },
  {
   "cell_type": "code",
   "execution_count": 133,
   "id": "95180188-4652-4775-b3fe-d72c228f058f",
   "metadata": {},
   "outputs": [
    {
     "name": "stdout",
     "output_type": "stream",
     "text": [
      "oh no your fucking internet points you can spend literally fucking no where poor fucking boohoobaby go kill yourself\n",
      "oh no your fucking internet points you can spend literally fucking no where poor fucking boohoobaby go kill yourself\n",
      "['oh', 'no', 'your', 'fucking', 'internet', 'points', 'you', 'can', 'spend', 'literally', 'fucking', 'no', 'where', 'poor', 'fucking', 'boohoobaby', 'go', 'kill', 'yourself']\n",
      "['oh', 'fuck', 'internet', 'point', 'spend', 'liter', 'fuck', 'poor', 'fuck', 'boohoobabi', 'go', 'kill']\n",
      "@SirJadeja Look @ d sun ☀ shine during #ENGvsWI  Match. It's a total conspiracy against all other team.  #England choose their venue where #Rain chances r Zero. How come eng never faced Rain?  CBI shud intervene n investigate against #ICCCricketWorldCup2019  #ShameOnICC😡😡😡\n",
      " sirjadeja look d sun shine during engvswi match it s a total conspiracy against all other team england choose their venue where rain chances r zero how come eng never faced rain cbi shud intervene n investigate against icccricketworldcup shameonicc \n",
      "['sirjadeja', 'look', 'd', 'sun', 'shine', 'during', 'engvswi', 'match', 'it', 's', 'a', 'total', 'conspiracy', 'against', 'all', 'other', 'team', 'england', 'choose', 'their', 'venue', 'where', 'rain', 'chances', 'r', 'zero', 'how', 'come', 'eng', 'never', 'faced', 'rain', 'cbi', 'shud', 'intervene', 'n', 'investigate', 'against', 'icccricketworldcup', 'shameonicc']\n",
      "['sirjadeja', 'look', 'sun', 'shine', 'engvswi', 'match', 'total', 'conspiraci', 'team', 'england', 'choos', 'venu', 'rain', 'chanc', 'r', 'zero', 'come', 'eng', 'never', 'face', 'rain', 'cbi', 'shud', 'interven', 'n', 'investig', 'icccricketworldcup', 'shameonicc']\n",
      "@HouseGOP @SenateGOP @senatemajldr @GOP   If #Trump wins 2020, EVERYBODY knows it's Russian hacking.   Everybody. Knows.  #TrumpIsAFraud   #TrumpIsATraitor   #TrumpIsADisgrace   #TrumpIsNotAboveTheLaw   #UnfitToBePresident   YOU know it too🤬 https://t.co/LIfZQ2OEBC\n",
      " housegop senategop senatemajldr gop if trump wins everybody knows it s russian hacking everybody knows trumpisafraud trumpisatraitor trumpisadisgrace trumpisnotabovethelaw unfittobepresident you know it too \n",
      "['housegop', 'senategop', 'senatemajldr', 'gop', 'if', 'trump', 'wins', 'everybody', 'knows', 'it', 's', 'russian', 'hacking', 'everybody', 'knows', 'trumpisafraud', 'trumpisatraitor', 'trumpisadisgrace', 'trumpisnotabovethelaw', 'unfittobepresident', 'you', 'know', 'it', 'too']\n",
      "['housegop', 'senategop', 'senatemajldr', 'gop', 'trump', 'win', 'everybodi', 'know', 'russian', 'hack', 'everybodi', 'know', 'trumpisafraud', 'trumpisatraitor', 'trumpisadisgrac', 'trumpisnotabovethelaw', 'unfittobepresid', 'know']\n",
      "tell your bf to fight me ill kick his ass and steal his wallet nigga dumbass you like white as hell nigga foh nigga shit\n",
      "tell your bf to fight me ill kick his ass and steal his wallet nigga dumbass you like white as hell nigga foh nigga shit\n",
      "['tell', 'your', 'bf', 'to', 'fight', 'me', 'ill', 'kick', 'his', 'ass', 'and', 'steal', 'his', 'wallet', 'nigga', 'dumbass', 'you', 'like', 'white', 'as', 'hell', 'nigga', 'foh', 'nigga', 'shit']\n",
      "['tell', 'bf', 'fight', 'ill', 'kick', 'ass', 'steal', 'wallet', 'nigga', 'dumbass', 'like', 'white', 'hell', 'nigga', 'foh', 'nigga', 'shit']\n",
      "You probably didn't spend anywhere near as much as you would have if you were with a woman. Women have a need for material goods which is hard to match.\n",
      "you probably didn t spend anywhere near as much as you would have if you were with a woman women have a need for material goods which is hard to match \n",
      "['you', 'probably', 'didn', 't', 'spend', 'anywhere', 'near', 'as', 'much', 'as', 'you', 'would', 'have', 'if', 'you', 'were', 'with', 'a', 'woman', 'women', 'have', 'a', 'need', 'for', 'material', 'goods', 'which', 'is', 'hard', 'to', 'match']\n",
      "['probabl', 'spend', 'anywher', 'near', 'much', 'would', 'woman', 'women', 'need', 'materi', 'good', 'hard', 'match']\n",
      "IRISH BIGOT PROTESTANT BASTARD...WE HAVE OUR EYE ON YOU...YOU'RE NOTHING BUT A CUNT..A BIGOT DISCRIMINATING GAY BASTARD...GO FUCK YOURSELF IN THE EAR..BIGOT PROTESTANT ORANGE CUNT\n",
      "irish bigot protestant bastard we have our eye on you you re nothing but a cunt a bigot discriminating gay bastard go fuck yourself in the ear bigot protestant orange cunt\n",
      "['irish', 'bigot', 'protestant', 'bastard', 'we', 'have', 'our', 'eye', 'on', 'you', 'you', 're', 'nothing', 'but', 'a', 'cunt', 'a', 'bigot', 'discriminating', 'gay', 'bastard', 'go', 'fuck', 'yourself', 'in', 'the', 'ear', 'bigot', 'protestant', 'orange', 'cunt']\n",
      "['irish', 'bigot', 'protest', 'bastard', 'eye', 'noth', 'cunt', 'bigot', 'discrimin', 'gay', 'bastard', 'go', 'fuck', 'ear', 'bigot', 'protest', 'orang', 'cunt']\n",
      "tbjablins comment above \n",
      "\n",
      "you dam nazi! go suck a dildo\n",
      "tbjablins comment above you dam nazi go suck a dildo\n",
      "['tbjablins', 'comment', 'above', 'you', 'dam', 'nazi', 'go', 'suck', 'a', 'dildo']\n",
      "['tbjablin', 'comment', 'dam', 'nazi', 'go', 'suck', 'dildo']\n",
      "by the way\n",
      "this is a university computer.. so go ahead and block it cock sucker. i'll just use my home computer to let the world know what a stupid asshole you are. FUCK OFFFF DICKBAG.\n",
      "by the way this is a university computer so go ahead and block it cock sucker i ll just use my home computer to let the world know what a stupid asshole you are fuck offff dickbag \n",
      "['by', 'the', 'way', 'this', 'is', 'a', 'university', 'computer', 'so', 'go', 'ahead', 'and', 'block', 'it', 'cock', 'sucker', 'i', 'll', 'just', 'use', 'my', 'home', 'computer', 'to', 'let', 'the', 'world', 'know', 'what', 'a', 'stupid', 'asshole', 'you', 'are', 'fuck', 'offff', 'dickbag']\n",
      "['way', 'univers', 'comput', 'go', 'ahead', 'block', 'cock', 'sucker', 'use', 'home', 'comput', 'let', 'world', 'know', 'stupid', 'asshol', 'fuck', 'offff', 'dickbag']\n",
      "———————————\n",
      "Hahahah get fucked filthy mudslime\n",
      "https://www.youtube.com/watch?v=sz90k9mug24\n",
      " hahahah get fucked filthy mudslime \n",
      "['hahahah', 'get', 'fucked', 'filthy', 'mudslime']\n",
      "['hahahah', 'get', 'fuck', 'filthi', 'mudslim']\n",
      "&#8220;@CakeMamaa: Y'all hoes messy on god !&#8221;nbs&#128064;\n",
      " cakemamaa y all hoes messy on god nbs \n",
      "['cakemamaa', 'y', 'all', 'hoes', 'messy', 'on', 'god', 'nbs']\n",
      "['cakemamaa', 'hoe', 'messi', 'god', 'nbs']\n",
      "RT @JLM_2014: It ain't nothin to cut that bitch off&#128129;\n",
      "rt jlm it ain t nothin to cut that bitch off \n",
      "['rt', 'jlm', 'it', 'ain', 't', 'nothin', 'to', 'cut', 'that', 'bitch', 'off']\n",
      "['rt', 'jlm', 'nothin', 'cut', 'bitch']\n",
      "<USER> that's not how it works bitch <URL>\n",
      " that s not how it works bitch \n",
      "['that', 's', 'not', 'how', 'it', 'works', 'bitch']\n",
      "['work', 'bitch']\n"
     ]
    }
   ],
   "source": [
    "print_some_texts(['text','preprocessed_text',  'tokenized_text', 'stems'])"
   ]
  },
  {
   "cell_type": "code",
   "execution_count": 167,
   "id": "44c56e44-33ec-4e39-8011-834b579f807c",
   "metadata": {},
   "outputs": [],
   "source": [
    "def labels_most_frequent_words(df, label, column, n_words = 10, visualise = False):\n",
    "    all_words_list=df[df['label']==label][column].sum()\n",
    "    all_words_count = dict(Counter(all_words_list))\n",
    "    words_freq = [(word, all_words_count[word]) for word in all_words_count]\n",
    "    words_freq =sorted(words_freq, key = lambda x: x[1], reverse=True)\n",
    "    if visualise:\n",
    "        top_n_words_freq = words_freq[:n_words]\n",
    "        x,y=map(list,zip(*top_n_words_freq))\n",
    "        sns.barplot(x=y, y=x)\n",
    "        \n",
    "    #print(words_freq)\n",
    "    return words_freq"
   ]
  },
  {
   "cell_type": "code",
   "execution_count": 185,
   "id": "5c731642-2fe0-429a-bff4-9011f6c9605f",
   "metadata": {},
   "outputs": [
    {
     "data": {
      "image/png": "[encoded data removed]",
      "text/plain": [
       "<Figure size 432x288 with 1 Axes>"
      ]
     },
     "metadata": {
      "needs_background": "light"
     },
     "output_type": "display_data"
    }
   ],
   "source": [
    "words_freq = labels_most_frequent_words(df, label='obscene', column='stems', n_words = 20, visualise = True)\n",
    "#print(words_freq)"
   ]
  },
  {
   "cell_type": "code",
   "execution_count": 161,
   "id": "7e109a28-d450-45ab-9966-1414eb8a3d3e",
   "metadata": {},
   "outputs": [],
   "source": [
    "#print(words_freq)"
   ]
  },
  {
   "cell_type": "code",
   "execution_count": 148,
   "id": "ed907641-336c-462c-a54d-fab02536ea79",
   "metadata": {},
   "outputs": [],
   "source": []
  },
  {
   "cell_type": "code",
   "execution_count": 149,
   "id": "1d2c0fc8-31b7-417f-b62c-f2a0713f165f",
   "metadata": {},
   "outputs": [],
   "source": []
  },
  {
   "cell_type": "code",
   "execution_count": null,
   "id": "24eeefce-93de-41f5-9a8a-47dff7fe4020",
   "metadata": {},
   "outputs": [],
   "source": []
  },
  {
   "cell_type": "code",
   "execution_count": null,
   "id": "61eb5f5c-e418-4625-a8ed-30e20de88786",
   "metadata": {},
   "outputs": [],
   "source": []
  }
 ],
 "metadata": {
  "kernelspec": {
   "display_name": "Python 3",
   "language": "python",
   "name": "python3"
  },
  "language_info": {
   "codemirror_mode": {
    "name": "ipython",
    "version": 3
   },
   "file_extension": ".py",
   "mimetype": "text/x-python",
   "name": "python",
   "nbconvert_exporter": "python",
   "pygments_lexer": "ipython3",
   "version": "3.9.2"
  }
 },
 "nbformat": 4,
 "nbformat_minor": 5
}
