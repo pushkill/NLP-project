{
  "nbformat": 4,
  "nbformat_minor": 5,
  "metadata": {
    "kernelspec": {
      "display_name": "Python 3",
      "language": "python",
      "name": "python3"
    },
    "language_info": {
      "codemirror_mode": {
        "name": "ipython",
        "version": 3
      },
      "file_extension": ".py",
      "mimetype": "text/x-python",
      "name": "python",
      "nbconvert_exporter": "python",
      "pygments_lexer": "ipython3",
      "version": "3.8.8"
    },
    "colab": {
      "name": "bert_elmo.ipynb",
      "provenance": [],
      "toc_visible": true
    },
    "accelerator": "GPU"
  },
  "cells": [
    {
      "cell_type": "code",
      "metadata": {
        "id": "487cfc43",
        "outputId": "7211a426-d7c9-45d9-a120-9deb4de001cf",
        "colab": {
          "base_uri": "https://localhost:8080/"
        }
      },
      "source": [
        "import pandas as pd\n",
        "import seaborn as sns\n",
        "import numpy as np\n",
        "import nltk\n",
        "import os\n",
        "from nltk.tokenize import word_tokenize\n",
        "from nltk.corpus import stopwords\n",
        "from nltk.stem.wordnet import WordNetLemmatizer\n",
        "from nltk.stem.porter import PorterStemmer\n",
        "from nltk.stem import SnowballStemmer\n",
        "from sklearn.feature_extraction.text import TfidfVectorizer\n",
        "from sklearn.manifold import TSNE\n",
        "from sklearn.manifold import MDS\n",
        "from sklearn.decomposition import PCA\n",
        "import matplotlib.patheffects as PathEffects\n",
        "import matplotlib.pyplot as plt\n",
        "import matplotlib.cm as cm\n",
        "import string\n",
        "import re\n",
        "from collections import Counter\n",
        "from tqdm import tqdm\n",
        "import time\n",
        "tqdm.pandas()\n",
        "\n",
        "\n",
        "nltk.download('stopwords')\n",
        "nltk.download('punkt')\n",
        "nltk.download('wordnet')"
      ],
      "id": "487cfc43",
      "execution_count": 1,
      "outputs": [
        {
          "output_type": "stream",
          "text": [
            "/usr/local/lib/python3.7/dist-packages/tqdm/std.py:658: FutureWarning: The Panel class is removed from pandas. Accessing it from the top-level namespace will also be removed in the next version\n",
            "  from pandas import Panel\n"
          ],
          "name": "stderr"
        },
        {
          "output_type": "stream",
          "text": [
            "[nltk_data] Downloading package stopwords to /root/nltk_data...\n",
            "[nltk_data]   Unzipping corpora/stopwords.zip.\n",
            "[nltk_data] Downloading package punkt to /root/nltk_data...\n",
            "[nltk_data]   Unzipping tokenizers/punkt.zip.\n",
            "[nltk_data] Downloading package wordnet to /root/nltk_data...\n",
            "[nltk_data]   Unzipping corpora/wordnet.zip.\n"
          ],
          "name": "stdout"
        },
        {
          "output_type": "execute_result",
          "data": {
            "text/plain": [
              "True"
            ]
          },
          "metadata": {
            "tags": []
          },
          "execution_count": 1
        }
      ]
    },
    {
      "cell_type": "code",
      "metadata": {
        "id": "7043097b"
      },
      "source": [
        "cwd = os.getcwd()\n",
        "df = pd.read_csv( os.path.join(cwd, 'full_dataset_all_labels.csv'))\n",
        "stop_words=set(stopwords.words('english') + list(string.punctuation))\n",
        "stop_words.add('rt') # add word rt (meaning retweet) to stop words\n",
        "df = pd.read_csv('full_dataset_all_labels.csv')\n",
        "#df = df.sample(10000)"
      ],
      "id": "7043097b",
      "execution_count": null,
      "outputs": []
    },
    {
      "cell_type": "code",
      "metadata": {
        "id": "1b347de2"
      },
      "source": [
        "def print_some_texts(columns, df):\n",
        "    text_idxs = [47, 7240, 7241, 8013, 14500, 16500, 16304, 18300,  21750, 34036, 45159, 71920]\n",
        "    for i in text_idxs:\n",
        "        for column in columns:\n",
        "            print(df[column].iloc[i])\n",
        "#print_some_texts(['text'])\n",
        "\n",
        "def tokenize(text):\n",
        "    #print(text)\n",
        "    text = preprocess_text(text)\n",
        "    #print(text)\n",
        "    tokens = word_tokenize(text)\n",
        "    filtered_tokens = []\n",
        "    # Filter out any tokens not containing letters (e.g., numeric tokens, raw punctuation). (adapted from lab example)\n",
        "    for token in tokens:\n",
        "        if re.search('[a-zA-Z]', token):\n",
        "            if token not in stop_words and len(token) > 2:\n",
        "                filtered_tokens.append(token)\n",
        "    return filtered_tokens\n",
        "    \n",
        "\n",
        "def preprocess_text(text):\n",
        "    text = re.sub(r\"http\\S+\", \" \", text)            # remove urls\n",
        "    text = re.sub(\"@[A-Za-z0-9]+\",\"\", text)         # remove twitter handle\n",
        "    text = re.sub(\"&amp;\",\"\", text)                  # &amp; is a special character for ampersand\n",
        "    text = re.sub('<USER>', '', text)               # remove '<USER>' as there are some such strings as user or url is masked with this string\n",
        "    text = re.sub('<URL>', '', text)\n",
        "    text = text.lower() \n",
        "    text = re.sub('[^a-zA-Z]', ' ', text)           # Remove punctuations\n",
        "    text = text.lower()                             # Convert to lowercase\n",
        "    text = re.sub(\"&lt;/?.*?&gt;\",\" &lt;&gt; \",text)#remove tags\n",
        "    text = re.sub(\"(\\\\d|\\\\W)+\",\" \",text)            # remove special characters and digits\n",
        "    return text\n",
        "    \n",
        "    \n",
        "def stemming(tokens):\n",
        "    stemmer = SnowballStemmer(\"english\")\n",
        "    stems = [stemmer.stem(token) for token in tokens]\n",
        "    return stems\n",
        "\n",
        "def lemmatizing(tokens):\n",
        "    lemmatizer = WordNetLemmatizer()\n",
        "    lemmas = [lemmatizer.lemmatize(token) for token in tokens]\n",
        "    return lemmas"
      ],
      "id": "1b347de2",
      "execution_count": null,
      "outputs": []
    },
    {
      "cell_type": "code",
      "metadata": {
        "id": "e4239977"
      },
      "source": [
        "df['preprocessed_text']=df['text'].apply(preprocess_text)"
      ],
      "id": "e4239977",
      "execution_count": null,
      "outputs": []
    },
    {
      "cell_type": "code",
      "metadata": {
        "id": "123cac33"
      },
      "source": [
        "df['appended'] = df['preprocessed_text']+', this is '+df['label']"
      ],
      "id": "123cac33",
      "execution_count": null,
      "outputs": []
    },
    {
      "cell_type": "markdown",
      "metadata": {
        "tags": [],
        "id": "44059a2b"
      },
      "source": [
        "# BERT"
      ],
      "id": "44059a2b"
    },
    {
      "cell_type": "markdown",
      "metadata": {
        "tags": [],
        "id": "af921fe0"
      },
      "source": [
        "## DEFAULT BERT"
      ],
      "id": "af921fe0"
    },
    {
      "cell_type": "code",
      "metadata": {
        "id": "f036368e"
      },
      "source": [
        "from transformers import BertTokenizer, BertModel\n",
        "import torch"
      ],
      "id": "f036368e",
      "execution_count": null,
      "outputs": []
    },
    {
      "cell_type": "code",
      "metadata": {
        "id": "86c042f2"
      },
      "source": [
        "model = BertModel.from_pretrained('bert-base-uncased', output_hidden_states = True,)\n",
        "tokenizer = BertTokenizer.from_pretrained('bert-base-uncased')"
      ],
      "id": "86c042f2",
      "execution_count": null,
      "outputs": []
    },
    {
      "cell_type": "code",
      "metadata": {
        "id": "11f7d1af"
      },
      "source": [
        "def get_bert_embeddings(tokens_tensor, segments_tensors, model):\n",
        "    \"\"\"Get embeddings from an embedding model\n",
        "    \n",
        "    Args:\n",
        "        tokens_tensor (obj): Torch tensor size [n_tokens]\n",
        "            with token ids for each token in text\n",
        "        segments_tensors (obj): Torch tensor size [n_tokens]\n",
        "            with segment ids for each token in text\n",
        "        model (obj): Embedding model to generate embeddings\n",
        "            from token and segment ids\n",
        "    \n",
        "    Returns:\n",
        "        list: List of list of floats of size\n",
        "            [n_tokens, n_embedding_dimensions]\n",
        "            containing embeddings for each token\n",
        "    \n",
        "    \"\"\"\n",
        "    \n",
        "    \n",
        "    # Gradient calculation id disabled\n",
        "    # Model is in inference mode\n",
        "    with torch.no_grad():\n",
        "        outputs = model(tokens_tensor, segments_tensors)\n",
        "        # Removing the first hidden state\n",
        "        # The first state is the input state\n",
        "        hidden_states = outputs[2][1:]\n",
        "    \n",
        "    # Getting embeddings from the final BERT layer\n",
        "    token_embeddings = hidden_states[-1]\n",
        "    # Collapsing the tensor into 1-dimension\n",
        "    token_embeddings = torch.squeeze(token_embeddings, dim=0)\n",
        "    # Converting torchtensors to lists\n",
        "    list_token_embeddings = [token_embed.tolist() for token_embed in token_embeddings]\n",
        "\n",
        "    return np.array(list_token_embeddings)"
      ],
      "id": "11f7d1af",
      "execution_count": null,
      "outputs": []
    },
    {
      "cell_type": "code",
      "metadata": {
        "id": "9cb9f72d"
      },
      "source": [
        "def bert_text_preparation(text, tokenizer):\n",
        "    \"\"\"Preparing the input for BERT\n",
        "    \n",
        "    Takes a string argument and performs\n",
        "    pre-processing like adding special tokens,\n",
        "    tokenization, tokens to ids, and tokens to\n",
        "    segment ids. All tokens are mapped to seg-\n",
        "    ment id = 1.\n",
        "    \n",
        "    Args:\n",
        "        text (str): Text to be converted\n",
        "        tokenizer (obj): Tokenizer object\n",
        "            to convert text into BERT-re-\n",
        "            adable tokens and ids\n",
        "        \n",
        "    Returns:\n",
        "        list: List of BERT-readable tokens\n",
        "        obj: Torch tensor with token ids\n",
        "        obj: Torch tensor segment ids\n",
        "    \n",
        "    \n",
        "    \"\"\"\n",
        "    marked_text = \"[CLS] \" + text + \" [SEP]\"\n",
        "    tokenized_text = tokenizer.tokenize(marked_text)\n",
        "    indexed_tokens = tokenizer.convert_tokens_to_ids(tokenized_text)\n",
        "    segments_ids = [1]*len(indexed_tokens)\n",
        "\n",
        "    # Convert inputs to PyTorch tensors\n",
        "    tokens_tensor = torch.tensor([indexed_tokens])\n",
        "    segments_tensors = torch.tensor([segments_ids])\n",
        "    return pd.Series([tokenized_text, tokens_tensor, segments_tensors], index = ['tokenized_text', 'tokens_tensor', 'segments_tensors'])"
      ],
      "id": "9cb9f72d",
      "execution_count": null,
      "outputs": []
    },
    {
      "cell_type": "code",
      "metadata": {
        "id": "f1f56e1b"
      },
      "source": [
        "labels = df['label'].unique()\n",
        "dict_labels_len = {}\n",
        "for l in labels:\n",
        "    x = bert_text_preparation(l, tokenizer)\n",
        "    dict_labels_len[l] = len(x[0])-2"
      ],
      "id": "f1f56e1b",
      "execution_count": null,
      "outputs": []
    },
    {
      "cell_type": "code",
      "metadata": {
        "tags": [],
        "id": "40dfa606",
        "outputId": "35ddd710-3a22-48d1-805c-293e25f989af"
      },
      "source": [
        "df[['tokenized_text', 'tokens_tensor', 'segments_tensors']] = df['appended'].progress_apply(bert_text_preparation, tokenizer = tokenizer)"
      ],
      "id": "40dfa606",
      "execution_count": null,
      "outputs": [
        {
          "output_type": "stream",
          "text": [
            "100%|████████████████████████████████████████████████████████████████████████████████████████████████████████████████████████████████████████████████████████████████████| 77668/77668 [02:27<00:00, 526.68it/s]\n"
          ],
          "name": "stderr"
        }
      ]
    },
    {
      "cell_type": "code",
      "metadata": {
        "id": "8370a631"
      },
      "source": [
        "df['leng'] = df['tokens_tensor'].apply(lambda x: x.size()[1])\n",
        "\n",
        "df = df[df['leng']  <= 512]\n",
        "df.drop(['leng'], axis = 1, inplace=True)"
      ],
      "id": "8370a631",
      "execution_count": null,
      "outputs": []
    },
    {
      "cell_type": "code",
      "metadata": {
        "tags": [],
        "id": "814f75fc",
        "outputId": "606e85ea-3980-493e-bb4d-6d1680210da7"
      },
      "source": [
        "df['bert_emmbeding'] = df.progress_apply(lambda x: get_bert_embeddings(x['tokens_tensor'], x['segments_tensors'], model), axis=1)"
      ],
      "id": "814f75fc",
      "execution_count": null,
      "outputs": [
        {
          "output_type": "stream",
          "text": [
            "100%|███████████████████████████████████████████████████████████████████████████████████████████████████████████████████████████████████████████████████████████████████| 77194/77194 [6:31:33<00:00,  3.29it/s]\n"
          ],
          "name": "stderr"
        }
      ]
    },
    {
      "cell_type": "code",
      "metadata": {
        "id": "f312c7ca",
        "outputId": "eaf0d50f-1170-4ac0-ff97-ea54bb01abc4"
      },
      "source": [
        "df.progress_apply(lambda x: x['tokenized_text'][- dict_labels_len[x['label']]-1:-1], axis = 1)"
      ],
      "id": "f312c7ca",
      "execution_count": null,
      "outputs": [
        {
          "output_type": "stream",
          "text": [
            "100%|███████████████████████████████████████████████████████████████████████████████████████████████████████████████████████████████████████████████████████████████████| 77194/77194 [00:09<00:00, 8254.39it/s]\n"
          ],
          "name": "stderr"
        },
        {
          "output_type": "execute_result",
          "data": {
            "text/plain": [
              "0         [abuse]\n",
              "1         [abuse]\n",
              "2         [abuse]\n",
              "3         [abuse]\n",
              "4         [abuse]\n",
              "           ...   \n",
              "77663    [vulgar]\n",
              "77664    [vulgar]\n",
              "77665    [vulgar]\n",
              "77666    [vulgar]\n",
              "77667    [vulgar]\n",
              "Length: 77194, dtype: object"
            ]
          },
          "metadata": {
            "tags": []
          },
          "execution_count": 102
        }
      ]
    },
    {
      "cell_type": "code",
      "metadata": {
        "id": "37cff7ca",
        "outputId": "65dd2610-b1e3-499b-ca0d-a476d2a6d319"
      },
      "source": [
        "df['bert_emmbeding'] = df.progress_apply(lambda x: np.average(x['bert_emmbeding'][- dict_labels_len[x['label']]-1:-1], axis = 0), axis = 1)\n",
        "df.sample()"
      ],
      "id": "37cff7ca",
      "execution_count": null,
      "outputs": [
        {
          "output_type": "stream",
          "text": [
            "100%|████████████████████████████████████████████████████████████████████████████████████████████████████████████████████████████████████████████████████████████████████| 77194/77194 [01:51<00:00, 692.84it/s]\n"
          ],
          "name": "stderr"
        },
        {
          "output_type": "execute_result",
          "data": {
            "text/html": [
              "<div>\n",
              "<style scoped>\n",
              "    .dataframe tbody tr th:only-of-type {\n",
              "        vertical-align: middle;\n",
              "    }\n",
              "\n",
              "    .dataframe tbody tr th {\n",
              "        vertical-align: top;\n",
              "    }\n",
              "\n",
              "    .dataframe thead th {\n",
              "        text-align: right;\n",
              "    }\n",
              "</style>\n",
              "<table border=\"1\" class=\"dataframe\">\n",
              "  <thead>\n",
              "    <tr style=\"text-align: right;\">\n",
              "      <th></th>\n",
              "      <th>text</th>\n",
              "      <th>label</th>\n",
              "      <th>preprocessed_text</th>\n",
              "      <th>appended</th>\n",
              "      <th>tokenized_text</th>\n",
              "      <th>tokens_tensor</th>\n",
              "      <th>segments_tensors</th>\n",
              "      <th>bert_emmbeding</th>\n",
              "    </tr>\n",
              "  </thead>\n",
              "  <tbody>\n",
              "    <tr>\n",
              "      <th>23753</th>\n",
              "      <td>\"\\n\\n Stop your fucking spamming \\n\\nI have to...</td>\n",
              "      <td>insult</td>\n",
              "      <td>stop your fucking spamming i have told you an...</td>\n",
              "      <td>stop your fucking spamming i have told you an...</td>\n",
              "      <td>[[CLS], stop, your, fucking, spa, ##mming, i, ...</td>\n",
              "      <td>[[tensor(101), tensor(2644), tensor(2115), ten...</td>\n",
              "      <td>[[tensor(1), tensor(1), tensor(1), tensor(1), ...</td>\n",
              "      <td>[0.14338752627372742, -0.4059569239616394, -0....</td>\n",
              "    </tr>\n",
              "  </tbody>\n",
              "</table>\n",
              "</div>"
            ],
            "text/plain": [
              "                                                    text   label  \\\n",
              "23753  \"\\n\\n Stop your fucking spamming \\n\\nI have to...  insult   \n",
              "\n",
              "                                       preprocessed_text  \\\n",
              "23753   stop your fucking spamming i have told you an...   \n",
              "\n",
              "                                                appended  \\\n",
              "23753   stop your fucking spamming i have told you an...   \n",
              "\n",
              "                                          tokenized_text  \\\n",
              "23753  [[CLS], stop, your, fucking, spa, ##mming, i, ...   \n",
              "\n",
              "                                           tokens_tensor  \\\n",
              "23753  [[tensor(101), tensor(2644), tensor(2115), ten...   \n",
              "\n",
              "                                        segments_tensors  \\\n",
              "23753  [[tensor(1), tensor(1), tensor(1), tensor(1), ...   \n",
              "\n",
              "                                          bert_emmbeding  \n",
              "23753  [0.14338752627372742, -0.4059569239616394, -0....  "
            ]
          },
          "metadata": {
            "tags": []
          },
          "execution_count": 103
        }
      ]
    },
    {
      "cell_type": "markdown",
      "metadata": {
        "id": "93ed1f53"
      },
      "source": [
        "## BERT WITH SENTENCE EMMBEDINGS"
      ],
      "id": "93ed1f53"
    },
    {
      "cell_type": "code",
      "metadata": {
        "id": "9afa4d85"
      },
      "source": [
        "from sentence_transformers import SentenceTransformer\n",
        "model = SentenceTransformer('stsb-mpnet-base-v2')"
      ],
      "id": "9afa4d85",
      "execution_count": null,
      "outputs": []
    },
    {
      "cell_type": "code",
      "metadata": {
        "tags": [],
        "id": "546deb4b"
      },
      "source": [
        "sentences = df['preprocessed_text'].to_numpy()\n",
        "sentence_embeddings = model.encode(sentences)"
      ],
      "id": "546deb4b",
      "execution_count": null,
      "outputs": []
    },
    {
      "cell_type": "code",
      "metadata": {
        "id": "2f6c6e15"
      },
      "source": [
        "df['bert_sentence_emm'] = sentence_embeddings.tolist()"
      ],
      "id": "2f6c6e15",
      "execution_count": null,
      "outputs": []
    },
    {
      "cell_type": "markdown",
      "metadata": {
        "id": "57c59c67"
      },
      "source": [
        "# ELMO"
      ],
      "id": "57c59c67"
    },
    {
      "cell_type": "code",
      "metadata": {
        "id": "ae2b3060"
      },
      "source": [
        "import tensorflow as tf\n",
        "import tensorflow_hub as hub"
      ],
      "id": "ae2b3060",
      "execution_count": 2,
      "outputs": []
    },
    {
      "cell_type": "code",
      "metadata": {
        "id": "0288e0b6"
      },
      "source": [
        "elmo = hub.load(\"https://tfhub.dev/google/elmo/3\").signatures['default']"
      ],
      "id": "0288e0b6",
      "execution_count": 3,
      "outputs": []
    },
    {
      "cell_type": "code",
      "metadata": {
        "id": "2accdbc6"
      },
      "source": [
        "df = pd.read_csv('/content/drive/MyDrive/Colab Notebooks/data.csv')"
      ],
      "id": "2accdbc6",
      "execution_count": 4,
      "outputs": []
    },
    {
      "cell_type": "code",
      "metadata": {
        "id": "613a047a"
      },
      "source": [
        "df = df.drop(['tokens_tensor', 'segments_tensors', 'tokenized_text', 'text'], axis = 1)"
      ],
      "id": "613a047a",
      "execution_count": 5,
      "outputs": []
    },
    {
      "cell_type": "code",
      "metadata": {
        "id": "46148c8c"
      },
      "source": [
        "dfs = np.array_split(df, 1000)"
      ],
      "id": "46148c8c",
      "execution_count": 6,
      "outputs": []
    },
    {
      "cell_type": "code",
      "metadata": {
        "id": "DROEWWlkx-Om",
        "outputId": "855cfc2d-b1e4-42ad-c5ef-be78500dcf28",
        "colab": {
          "base_uri": "https://localhost:8080/"
        }
      },
      "source": [
        "from google.colab import drive\n",
        "drive.mount('/content/drive')"
      ],
      "id": "DROEWWlkx-Om",
      "execution_count": 19,
      "outputs": [
        {
          "output_type": "stream",
          "text": [
            "Drive already mounted at /content/drive; to attempt to forcibly remount, call drive.mount(\"/content/drive\", force_remount=True).\n"
          ],
          "name": "stdout"
        }
      ]
    },
    {
      "cell_type": "code",
      "metadata": {
        "id": "7d1d7755"
      },
      "source": [
        "df.sample(10)"
      ],
      "id": "7d1d7755",
      "execution_count": null,
      "outputs": []
    },
    {
      "cell_type": "code",
      "metadata": {
        "id": "81Mn_rnY31iv"
      },
      "source": [
        "from numba import cuda\n",
        "\n",
        "cuda.select_device(0)\n",
        "cuda.close()"
      ],
      "id": "81Mn_rnY31iv",
      "execution_count": 13,
      "outputs": []
    },
    {
      "cell_type": "code",
      "metadata": {
        "id": "tJdGjSOb3FTC",
        "outputId": "06b847d4-b1cf-416a-9438-d085a91f1707",
        "colab": {
          "base_uri": "https://localhost:8080/"
        }
      },
      "source": [
        "!nvidia-smi"
      ],
      "id": "tJdGjSOb3FTC",
      "execution_count": 9,
      "outputs": [
        {
          "output_type": "stream",
          "text": [
            "Wed May 12 14:35:40 2021       \n",
            "+-----------------------------------------------------------------------------+\n",
            "| NVIDIA-SMI 465.19.01    Driver Version: 460.32.03    CUDA Version: 11.2     |\n",
            "|-------------------------------+----------------------+----------------------+\n",
            "| GPU  Name        Persistence-M| Bus-Id        Disp.A | Volatile Uncorr. ECC |\n",
            "| Fan  Temp  Perf  Pwr:Usage/Cap|         Memory-Usage | GPU-Util  Compute M. |\n",
            "|                               |                      |               MIG M. |\n",
            "|===============================+======================+======================|\n",
            "|   0  Tesla K80           Off  | 00000000:00:04.0 Off |                    0 |\n",
            "| N/A   73C    P0    76W / 149W |  10902MiB / 11441MiB |      0%      Default |\n",
            "|                               |                      |                  N/A |\n",
            "+-------------------------------+----------------------+----------------------+\n",
            "                                                                               \n",
            "+-----------------------------------------------------------------------------+\n",
            "| Processes:                                                                  |\n",
            "|  GPU   GI   CI        PID   Type   Process name                  GPU Memory |\n",
            "|        ID   ID                                                   Usage      |\n",
            "|=============================================================================|\n",
            "+-----------------------------------------------------------------------------+\n"
          ],
          "name": "stdout"
        }
      ]
    },
    {
      "cell_type": "code",
      "metadata": {
        "tags": [],
        "id": "88b61353",
        "outputId": "940d86d1-f27b-4fba-adc5-f90e750d0151",
        "colab": {
          "base_uri": "https://localhost:8080/"
        }
      },
      "source": [
        "for i,small in enumerate(dfs):\n",
        "    if i < 268 or (i > 500 and i < 788) or (i > 800 and i < 907):\n",
        "      continue\n",
        "    for j, sm in enumerate(np.array_split(small, 10)):\n",
        "      start = time.time()\n",
        "      lst =  sm['preprocessed_text'].tolist()\n",
        "      #lst2 = small['appended'].tolist()\n",
        "      #embeddings_words = elmo(tf.constant(lst))[\"elmo\"]\n",
        "      embeddings_sent = elmo(tf.constant(lst))[\"default\"]\n",
        "      sm['elmo_sentence'] = embeddings_sent.numpy().tolist()\n",
        "      #small['elmo_word'] = embeddings_words.numpy().tolist()\n",
        "      #small['idx'] = small.progress_apply(lambda x: len(x['appended'].split()), axis = 1)\n",
        "      #small['shape'] = small.progress_apply(lambda x: len(x['elmo_word']), axis = 1)\n",
        "      #small['idx'] = small.progress_apply(lambda x: min(x['idx'], x['shape']), axis = 1)\n",
        "      #small['elmo_word'] = small.progress_apply(lambda x: x['elmo_word'][x['idx']-1], axis = 1)\n",
        "      #small = small.drop([ 'idx', 'shape'], axis = 1)\n",
        "      sm.to_pickle(\"/content/drive/MyDrive/small\"+str(i)+'_'+str(j)+'.pkl')\n",
        "    print(f\"Čas za to iteracijo, {time.time()-start}, smo na: {(i+1)/len(dfs)*100}%\")"
      ],
      "id": "88b61353",
      "execution_count": 12,
      "outputs": [
        {
          "output_type": "stream",
          "text": [
            "Čas za to iteracijo, 0.9205386638641357, smo na: 26.900000000000002%\n",
            "Čas za to iteracijo, 1.1117866039276123, smo na: 27.0%\n",
            "Čas za to iteracijo, 0.9936702251434326, smo na: 27.1%\n",
            "Čas za to iteracijo, 0.8657057285308838, smo na: 27.200000000000003%\n",
            "Čas za to iteracijo, 1.2392606735229492, smo na: 27.3%\n",
            "Čas za to iteracijo, 1.3586018085479736, smo na: 27.400000000000002%\n",
            "Čas za to iteracijo, 0.8889343738555908, smo na: 27.500000000000004%\n",
            "Čas za to iteracijo, 3.846491575241089, smo na: 27.6%\n",
            "Čas za to iteracijo, 0.8743689060211182, smo na: 27.700000000000003%\n",
            "Čas za to iteracijo, 2.3347771167755127, smo na: 27.800000000000004%\n",
            "Čas za to iteracijo, 0.3335139751434326, smo na: 27.900000000000002%\n",
            "Čas za to iteracijo, 2.2854647636413574, smo na: 28.000000000000004%\n",
            "Čas za to iteracijo, 0.35138583183288574, smo na: 28.1%\n",
            "Čas za to iteracijo, 1.7053346633911133, smo na: 28.199999999999996%\n",
            "Čas za to iteracijo, 0.6368484497070312, smo na: 28.299999999999997%\n",
            "Čas za to iteracijo, 0.5905442237854004, smo na: 28.4%\n",
            "Čas za to iteracijo, 2.3631272315979004, smo na: 28.499999999999996%\n",
            "Čas za to iteracijo, 0.41325998306274414, smo na: 28.599999999999998%\n",
            "Čas za to iteracijo, 2.000958204269409, smo na: 28.7%\n",
            "Čas za to iteracijo, 0.5902557373046875, smo na: 28.799999999999997%\n",
            "Čas za to iteracijo, 0.4580345153808594, smo na: 28.9%\n",
            "Čas za to iteracijo, 0.2819478511810303, smo na: 28.999999999999996%\n",
            "Čas za to iteracijo, 0.29300427436828613, smo na: 29.099999999999998%\n",
            "Čas za to iteracijo, 0.4525902271270752, smo na: 29.2%\n",
            "Čas za to iteracijo, 0.9764313697814941, smo na: 29.299999999999997%\n",
            "Čas za to iteracijo, 0.43726658821105957, smo na: 29.4%\n",
            "Čas za to iteracijo, 0.7316064834594727, smo na: 29.5%\n",
            "Čas za to iteracijo, 0.4649951457977295, smo na: 29.599999999999998%\n",
            "Čas za to iteracijo, 0.40356993675231934, smo na: 29.7%\n",
            "Čas za to iteracijo, 0.889925479888916, smo na: 29.799999999999997%\n",
            "Čas za to iteracijo, 1.6960539817810059, smo na: 29.9%\n",
            "Čas za to iteracijo, 1.0649001598358154, smo na: 30.0%\n",
            "Čas za to iteracijo, 1.2722620964050293, smo na: 30.099999999999998%\n",
            "Čas za to iteracijo, 0.46749329566955566, smo na: 30.2%\n",
            "Čas za to iteracijo, 0.5816035270690918, smo na: 30.3%\n",
            "Čas za to iteracijo, 0.5299651622772217, smo na: 30.4%\n",
            "Čas za to iteracijo, 1.1328456401824951, smo na: 30.5%\n",
            "Čas za to iteracijo, 1.3282456398010254, smo na: 30.599999999999998%\n",
            "Čas za to iteracijo, 1.6977205276489258, smo na: 30.7%\n",
            "Čas za to iteracijo, 0.6068871021270752, smo na: 30.8%\n",
            "Čas za to iteracijo, 0.5285801887512207, smo na: 30.9%\n",
            "Čas za to iteracijo, 2.759732961654663, smo na: 31.0%\n",
            "Čas za to iteracijo, 0.9770619869232178, smo na: 31.1%\n",
            "Čas za to iteracijo, 2.563572883605957, smo na: 31.2%\n",
            "Čas za to iteracijo, 0.3651158809661865, smo na: 31.3%\n",
            "Čas za to iteracijo, 0.5587849617004395, smo na: 31.4%\n",
            "Čas za to iteracijo, 0.9017651081085205, smo na: 31.5%\n",
            "Čas za to iteracijo, 0.4096195697784424, smo na: 31.6%\n",
            "Čas za to iteracijo, 1.253420352935791, smo na: 31.7%\n",
            "Čas za to iteracijo, 0.4743359088897705, smo na: 31.8%\n",
            "Čas za to iteracijo, 0.3993229866027832, smo na: 31.900000000000002%\n",
            "Čas za to iteracijo, 1.4190471172332764, smo na: 32.0%\n",
            "Čas za to iteracijo, 1.418264389038086, smo na: 32.1%\n",
            "Čas za to iteracijo, 0.3822963237762451, smo na: 32.2%\n",
            "Čas za to iteracijo, 0.4731588363647461, smo na: 32.300000000000004%\n",
            "Čas za to iteracijo, 1.087956428527832, smo na: 32.4%\n",
            "Čas za to iteracijo, 0.6179847717285156, smo na: 32.5%\n",
            "Čas za to iteracijo, 0.509174108505249, smo na: 32.6%\n",
            "Čas za to iteracijo, 0.5646417140960693, smo na: 32.7%\n",
            "Čas za to iteracijo, 0.5979208946228027, smo na: 32.800000000000004%\n",
            "Čas za to iteracijo, 0.373049259185791, smo na: 32.9%\n",
            "Čas za to iteracijo, 0.38977622985839844, smo na: 33.0%\n",
            "Čas za to iteracijo, 0.9660532474517822, smo na: 33.1%\n",
            "Čas za to iteracijo, 0.9421689510345459, smo na: 33.2%\n",
            "Čas za to iteracijo, 0.5639417171478271, smo na: 33.300000000000004%\n",
            "Čas za to iteracijo, 0.504901647567749, smo na: 33.4%\n",
            "Čas za to iteracijo, 0.8645224571228027, smo na: 33.5%\n",
            "Čas za to iteracijo, 0.47483062744140625, smo na: 33.6%\n",
            "Čas za to iteracijo, 0.44918107986450195, smo na: 33.7%\n",
            "Čas za to iteracijo, 0.4577314853668213, smo na: 33.800000000000004%\n",
            "Čas za to iteracijo, 0.2893521785736084, smo na: 33.900000000000006%\n",
            "Čas za to iteracijo, 0.6876673698425293, smo na: 34.0%\n",
            "Čas za to iteracijo, 1.0383739471435547, smo na: 34.1%\n",
            "Čas za to iteracijo, 1.2307024002075195, smo na: 34.2%\n",
            "Čas za to iteracijo, 0.635490894317627, smo na: 34.300000000000004%\n",
            "Čas za to iteracijo, 1.9121308326721191, smo na: 34.4%\n",
            "Čas za to iteracijo, 1.931993007659912, smo na: 34.5%\n",
            "Čas za to iteracijo, 1.2070636749267578, smo na: 34.599999999999994%\n",
            "Čas za to iteracijo, 1.3567075729370117, smo na: 34.699999999999996%\n",
            "Čas za to iteracijo, 0.7089612483978271, smo na: 34.8%\n",
            "Čas za to iteracijo, 1.718400239944458, smo na: 34.9%\n",
            "Čas za to iteracijo, 0.38632988929748535, smo na: 35.0%\n",
            "Čas za to iteracijo, 0.5487139225006104, smo na: 35.099999999999994%\n",
            "Čas za to iteracijo, 0.6224639415740967, smo na: 35.199999999999996%\n",
            "Čas za to iteracijo, 0.5158219337463379, smo na: 35.3%\n",
            "Čas za to iteracijo, 0.30547451972961426, smo na: 35.4%\n",
            "Čas za to iteracijo, 0.27844667434692383, smo na: 35.5%\n",
            "Čas za to iteracijo, 0.4768033027648926, smo na: 35.6%\n",
            "Čas za to iteracijo, 0.6417622566223145, smo na: 35.699999999999996%\n",
            "Čas za to iteracijo, 0.6165084838867188, smo na: 35.8%\n",
            "Čas za to iteracijo, 2.573315382003784, smo na: 35.9%\n",
            "Čas za to iteracijo, 1.2336077690124512, smo na: 36.0%\n",
            "Čas za to iteracijo, 0.14958500862121582, smo na: 36.1%\n",
            "Čas za to iteracijo, 1.2399203777313232, smo na: 36.199999999999996%\n",
            "Čas za to iteracijo, 1.203260898590088, smo na: 36.3%\n",
            "Čas za to iteracijo, 0.7251749038696289, smo na: 36.4%\n",
            "Čas za to iteracijo, 0.45131778717041016, smo na: 36.5%\n",
            "Čas za to iteracijo, 0.7270002365112305, smo na: 36.6%\n",
            "Čas za to iteracijo, 0.3943202495574951, smo na: 36.7%\n",
            "Čas za to iteracijo, 1.0835497379302979, smo na: 36.8%\n",
            "Čas za to iteracijo, 1.0039756298065186, smo na: 36.9%\n",
            "Čas za to iteracijo, 1.1570498943328857, smo na: 37.0%\n",
            "Čas za to iteracijo, 0.41898465156555176, smo na: 37.1%\n",
            "Čas za to iteracijo, 0.3478093147277832, smo na: 37.2%\n",
            "Čas za to iteracijo, 0.42173290252685547, smo na: 37.3%\n",
            "Čas za to iteracijo, 0.5345704555511475, smo na: 37.4%\n",
            "Čas za to iteracijo, 1.6367254257202148, smo na: 37.5%\n",
            "Čas za to iteracijo, 0.517791748046875, smo na: 37.6%\n",
            "Čas za to iteracijo, 0.7333824634552002, smo na: 37.7%\n",
            "Čas za to iteracijo, 2.3661673069000244, smo na: 37.8%\n",
            "Čas za to iteracijo, 2.0201287269592285, smo na: 37.9%\n",
            "Čas za to iteracijo, 0.8222248554229736, smo na: 38.0%\n",
            "Čas za to iteracijo, 0.6732299327850342, smo na: 38.1%\n",
            "Čas za to iteracijo, 0.9038207530975342, smo na: 38.2%\n",
            "Čas za to iteracijo, 0.4604165554046631, smo na: 38.3%\n",
            "Čas za to iteracijo, 1.5810763835906982, smo na: 38.4%\n",
            "Čas za to iteracijo, 0.24536752700805664, smo na: 38.5%\n",
            "Čas za to iteracijo, 0.6316912174224854, smo na: 38.6%\n",
            "Čas za to iteracijo, 1.2565555572509766, smo na: 38.7%\n",
            "Čas za to iteracijo, 0.4862382411956787, smo na: 38.800000000000004%\n",
            "Čas za to iteracijo, 1.5814120769500732, smo na: 38.9%\n",
            "Čas za to iteracijo, 1.021252155303955, smo na: 39.0%\n",
            "Čas za to iteracijo, 1.8085265159606934, smo na: 39.1%\n",
            "Čas za to iteracijo, 0.5853986740112305, smo na: 39.2%\n",
            "Čas za to iteracijo, 0.36572980880737305, smo na: 39.300000000000004%\n",
            "Čas za to iteracijo, 0.4039497375488281, smo na: 39.4%\n",
            "Čas za to iteracijo, 0.31609177589416504, smo na: 39.5%\n",
            "Čas za to iteracijo, 0.7321310043334961, smo na: 39.6%\n",
            "Čas za to iteracijo, 1.9001407623291016, smo na: 39.7%\n",
            "Čas za to iteracijo, 0.2528810501098633, smo na: 39.800000000000004%\n",
            "Čas za to iteracijo, 0.6895992755889893, smo na: 39.900000000000006%\n",
            "Čas za to iteracijo, 0.927332878112793, smo na: 40.0%\n",
            "Čas za to iteracijo, 0.34538793563842773, smo na: 40.1%\n",
            "Čas za to iteracijo, 1.4159395694732666, smo na: 40.2%\n",
            "Čas za to iteracijo, 0.5653903484344482, smo na: 40.300000000000004%\n",
            "Čas za to iteracijo, 0.7626876831054688, smo na: 40.400000000000006%\n",
            "Čas za to iteracijo, 0.19573163986206055, smo na: 40.5%\n",
            "Čas za to iteracijo, 2.3659894466400146, smo na: 40.6%\n",
            "Čas za to iteracijo, 0.30950021743774414, smo na: 40.699999999999996%\n",
            "Čas za to iteracijo, 1.126574993133545, smo na: 40.8%\n",
            "Čas za to iteracijo, 0.367661714553833, smo na: 40.9%\n",
            "Čas za to iteracijo, 0.913264274597168, smo na: 41.0%\n",
            "Čas za to iteracijo, 0.5258257389068604, smo na: 41.099999999999994%\n",
            "Čas za to iteracijo, 0.6474435329437256, smo na: 41.199999999999996%\n",
            "Čas za to iteracijo, 0.5113310813903809, smo na: 41.3%\n",
            "Čas za to iteracijo, 0.18970084190368652, smo na: 41.4%\n",
            "Čas za to iteracijo, 1.654928207397461, smo na: 41.5%\n",
            "Čas za to iteracijo, 0.32677340507507324, smo na: 41.6%\n",
            "Čas za to iteracijo, 0.2746555805206299, smo na: 41.699999999999996%\n",
            "Čas za to iteracijo, 0.7039673328399658, smo na: 41.8%\n",
            "Čas za to iteracijo, 0.6727344989776611, smo na: 41.9%\n",
            "Čas za to iteracijo, 1.203669548034668, smo na: 42.0%\n",
            "Čas za to iteracijo, 0.5711376667022705, smo na: 42.1%\n",
            "Čas za to iteracijo, 0.4845399856567383, smo na: 42.199999999999996%\n",
            "Čas za to iteracijo, 0.34207940101623535, smo na: 42.3%\n",
            "Čas za to iteracijo, 0.35423731803894043, smo na: 42.4%\n",
            "Čas za to iteracijo, 3.509009599685669, smo na: 42.5%\n",
            "Čas za to iteracijo, 0.3847372531890869, smo na: 42.6%\n",
            "Čas za to iteracijo, 0.28258681297302246, smo na: 42.699999999999996%\n",
            "Čas za to iteracijo, 0.4372861385345459, smo na: 42.8%\n",
            "Čas za to iteracijo, 2.098088502883911, smo na: 42.9%\n",
            "Čas za to iteracijo, 2.7406208515167236, smo na: 43.0%\n",
            "Čas za to iteracijo, 0.596513032913208, smo na: 43.1%\n",
            "Čas za to iteracijo, 0.4665217399597168, smo na: 43.2%\n",
            "Čas za to iteracijo, 1.5215730667114258, smo na: 43.3%\n",
            "Čas za to iteracijo, 2.5144197940826416, smo na: 43.4%\n",
            "Čas za to iteracijo, 0.6069402694702148, smo na: 43.5%\n",
            "Čas za to iteracijo, 0.6896679401397705, smo na: 43.6%\n",
            "Čas za to iteracijo, 0.9036195278167725, smo na: 43.7%\n",
            "Čas za to iteracijo, 0.2206268310546875, smo na: 43.8%\n",
            "Čas za to iteracijo, 1.855764389038086, smo na: 43.9%\n",
            "Čas za to iteracijo, 0.9724483489990234, smo na: 44.0%\n",
            "Čas za to iteracijo, 0.38109397888183594, smo na: 44.1%\n",
            "Čas za to iteracijo, 0.547478437423706, smo na: 44.2%\n",
            "Čas za to iteracijo, 0.24341559410095215, smo na: 44.3%\n",
            "Čas za to iteracijo, 0.7781474590301514, smo na: 44.4%\n",
            "Čas za to iteracijo, 0.6172535419464111, smo na: 44.5%\n",
            "Čas za to iteracijo, 0.8692922592163086, smo na: 44.6%\n",
            "Čas za to iteracijo, 0.7934994697570801, smo na: 44.7%\n",
            "Čas za to iteracijo, 0.8716652393341064, smo na: 44.800000000000004%\n",
            "Čas za to iteracijo, 0.49574947357177734, smo na: 44.9%\n",
            "Čas za to iteracijo, 0.3399221897125244, smo na: 45.0%\n",
            "Čas za to iteracijo, 0.6680908203125, smo na: 45.1%\n",
            "Čas za to iteracijo, 0.6638741493225098, smo na: 45.2%\n",
            "Čas za to iteracijo, 0.7556056976318359, smo na: 45.300000000000004%\n",
            "Čas za to iteracijo, 1.5715553760528564, smo na: 45.4%\n",
            "Čas za to iteracijo, 0.2403559684753418, smo na: 45.5%\n",
            "Čas za to iteracijo, 0.8347139358520508, smo na: 45.6%\n",
            "Čas za to iteracijo, 2.123485803604126, smo na: 45.7%\n",
            "Čas za to iteracijo, 1.0494050979614258, smo na: 45.800000000000004%\n",
            "Čas za to iteracijo, 0.2966310977935791, smo na: 45.9%\n",
            "Čas za to iteracijo, 1.0638070106506348, smo na: 46.0%\n",
            "Čas za to iteracijo, 1.089292287826538, smo na: 46.1%\n",
            "Čas za to iteracijo, 0.411423921585083, smo na: 46.2%\n",
            "Čas za to iteracijo, 0.8299117088317871, smo na: 46.300000000000004%\n",
            "Čas za to iteracijo, 1.3616986274719238, smo na: 46.400000000000006%\n",
            "Čas za to iteracijo, 0.35734033584594727, smo na: 46.5%\n",
            "Čas za to iteracijo, 0.7146670818328857, smo na: 46.6%\n",
            "Čas za to iteracijo, 0.24198126792907715, smo na: 46.7%\n",
            "Čas za to iteracijo, 1.6419634819030762, smo na: 46.800000000000004%\n",
            "Čas za to iteracijo, 2.529531478881836, smo na: 46.9%\n",
            "Čas za to iteracijo, 0.5153419971466064, smo na: 47.0%\n",
            "Čas za to iteracijo, 0.25562381744384766, smo na: 47.099999999999994%\n",
            "Čas za to iteracijo, 0.24162864685058594, smo na: 47.199999999999996%\n",
            "Čas za to iteracijo, 1.4575252532958984, smo na: 47.3%\n",
            "Čas za to iteracijo, 0.3816232681274414, smo na: 47.4%\n",
            "Čas za to iteracijo, 0.7134847640991211, smo na: 47.5%\n",
            "Čas za to iteracijo, 1.174140453338623, smo na: 47.599999999999994%\n",
            "Čas za to iteracijo, 0.5527245998382568, smo na: 47.699999999999996%\n",
            "Čas za to iteracijo, 0.9145991802215576, smo na: 47.8%\n",
            "Čas za to iteracijo, 0.8171257972717285, smo na: 47.9%\n",
            "Čas za to iteracijo, 0.5415174961090088, smo na: 48.0%\n",
            "Čas za to iteracijo, 1.2106812000274658, smo na: 48.1%\n",
            "Čas za to iteracijo, 0.8163533210754395, smo na: 48.199999999999996%\n",
            "Čas za to iteracijo, 0.26610422134399414, smo na: 48.3%\n",
            "Čas za to iteracijo, 0.8120052814483643, smo na: 48.4%\n",
            "Čas za to iteracijo, 0.6913220882415771, smo na: 48.5%\n",
            "Čas za to iteracijo, 1.4397516250610352, smo na: 48.6%\n",
            "Čas za to iteracijo, 1.0210082530975342, smo na: 48.699999999999996%\n",
            "Čas za to iteracijo, 0.6936650276184082, smo na: 48.8%\n",
            "Čas za to iteracijo, 0.4968233108520508, smo na: 48.9%\n",
            "Čas za to iteracijo, 0.62017822265625, smo na: 49.0%\n",
            "Čas za to iteracijo, 0.45059680938720703, smo na: 49.1%\n",
            "Čas za to iteracijo, 0.18339991569519043, smo na: 49.2%\n",
            "Čas za to iteracijo, 0.17397093772888184, smo na: 49.3%\n",
            "Čas za to iteracijo, 0.18646550178527832, smo na: 49.4%\n",
            "Čas za to iteracijo, 0.16264104843139648, smo na: 49.5%\n",
            "Čas za to iteracijo, 0.19121074676513672, smo na: 49.6%\n",
            "Čas za to iteracijo, 0.15585803985595703, smo na: 49.7%\n",
            "Čas za to iteracijo, 0.1696949005126953, smo na: 49.8%\n",
            "Čas za to iteracijo, 0.14993786811828613, smo na: 49.9%\n",
            "Čas za to iteracijo, 0.25261807441711426, smo na: 50.0%\n",
            "Čas za to iteracijo, 0.2645845413208008, smo na: 50.1%\n",
            "Čas za to iteracijo, 3.646331548690796, smo na: 78.9%\n",
            "Čas za to iteracijo, 0.3860814571380615, smo na: 79.0%\n",
            "Čas za to iteracijo, 0.22960948944091797, smo na: 79.10000000000001%\n",
            "Čas za to iteracijo, 0.3281738758087158, smo na: 79.2%\n",
            "Čas za to iteracijo, 1.9694039821624756, smo na: 79.3%\n",
            "Čas za to iteracijo, 0.2692549228668213, smo na: 79.4%\n",
            "Čas za to iteracijo, 2.8110218048095703, smo na: 79.5%\n",
            "Čas za to iteracijo, 1.0472774505615234, smo na: 79.60000000000001%\n",
            "Čas za to iteracijo, 0.5153989791870117, smo na: 79.7%\n",
            "Čas za to iteracijo, 0.8168716430664062, smo na: 79.80000000000001%\n",
            "Čas za to iteracijo, 0.9076817035675049, smo na: 79.9%\n",
            "Čas za to iteracijo, 0.5384035110473633, smo na: 80.0%\n",
            "Čas za to iteracijo, 0.21796083450317383, smo na: 80.10000000000001%\n",
            "Čas za to iteracijo, 1.046243667602539, smo na: 90.8%\n",
            "Čas za to iteracijo, 1.1002039909362793, smo na: 90.9%\n",
            "Čas za to iteracijo, 0.8795657157897949, smo na: 91.0%\n",
            "Čas za to iteracijo, 1.7450199127197266, smo na: 91.10000000000001%\n",
            "Čas za to iteracijo, 0.34766650199890137, smo na: 91.2%\n",
            "Čas za to iteracijo, 0.2167806625366211, smo na: 91.3%\n",
            "Čas za to iteracijo, 0.24494671821594238, smo na: 91.4%\n",
            "Čas za to iteracijo, 0.21852946281433105, smo na: 91.5%\n",
            "Čas za to iteracijo, 0.23732471466064453, smo na: 91.60000000000001%\n",
            "Čas za to iteracijo, 0.22502517700195312, smo na: 91.7%\n",
            "Čas za to iteracijo, 0.19028306007385254, smo na: 91.8%\n",
            "Čas za to iteracijo, 0.2151024341583252, smo na: 91.9%\n",
            "Čas za to iteracijo, 0.2090606689453125, smo na: 92.0%\n",
            "Čas za to iteracijo, 0.19938302040100098, smo na: 92.10000000000001%\n",
            "Čas za to iteracijo, 0.2371375560760498, smo na: 92.2%\n",
            "Čas za to iteracijo, 0.21110749244689941, smo na: 92.30000000000001%\n",
            "Čas za to iteracijo, 0.1841738224029541, smo na: 92.4%\n",
            "Čas za to iteracijo, 0.19623899459838867, smo na: 92.5%\n",
            "Čas za to iteracijo, 0.19911432266235352, smo na: 92.60000000000001%\n",
            "Čas za to iteracijo, 0.23783159255981445, smo na: 92.7%\n",
            "Čas za to iteracijo, 0.2032010555267334, smo na: 92.80000000000001%\n",
            "Čas za to iteracijo, 0.14987564086914062, smo na: 92.9%\n",
            "Čas za to iteracijo, 0.19571924209594727, smo na: 93.0%\n",
            "Čas za to iteracijo, 0.22450733184814453, smo na: 93.10000000000001%\n",
            "Čas za to iteracijo, 0.2297050952911377, smo na: 93.2%\n",
            "Čas za to iteracijo, 0.2108161449432373, smo na: 93.30000000000001%\n",
            "Čas za to iteracijo, 0.16204500198364258, smo na: 93.4%\n",
            "Čas za to iteracijo, 0.2166752815246582, smo na: 93.5%\n",
            "Čas za to iteracijo, 0.18596887588500977, smo na: 93.60000000000001%\n",
            "Čas za to iteracijo, 0.23843598365783691, smo na: 93.7%\n",
            "Čas za to iteracijo, 0.2319321632385254, smo na: 93.8%\n",
            "Čas za to iteracijo, 0.2226107120513916, smo na: 93.89999999999999%\n",
            "Čas za to iteracijo, 0.2664046287536621, smo na: 94.0%\n",
            "Čas za to iteracijo, 0.21396565437316895, smo na: 94.1%\n",
            "Čas za to iteracijo, 0.18724513053894043, smo na: 94.19999999999999%\n",
            "Čas za to iteracijo, 0.19965291023254395, smo na: 94.3%\n",
            "Čas za to iteracijo, 0.12831807136535645, smo na: 94.39999999999999%\n",
            "Čas za to iteracijo, 0.18365001678466797, smo na: 94.5%\n",
            "Čas za to iteracijo, 0.19292759895324707, smo na: 94.6%\n",
            "Čas za to iteracijo, 0.18363142013549805, smo na: 94.69999999999999%\n",
            "Čas za to iteracijo, 0.1887979507446289, smo na: 94.8%\n",
            "Čas za to iteracijo, 0.19057822227478027, smo na: 94.89999999999999%\n",
            "Čas za to iteracijo, 0.23582768440246582, smo na: 95.0%\n",
            "Čas za to iteracijo, 0.17087292671203613, smo na: 95.1%\n",
            "Čas za to iteracijo, 0.20095181465148926, smo na: 95.19999999999999%\n",
            "Čas za to iteracijo, 0.18430256843566895, smo na: 95.3%\n",
            "Čas za to iteracijo, 0.23816609382629395, smo na: 95.39999999999999%\n",
            "Čas za to iteracijo, 0.19444680213928223, smo na: 95.5%\n",
            "Čas za to iteracijo, 0.1893610954284668, smo na: 95.6%\n",
            "Čas za to iteracijo, 0.3291921615600586, smo na: 95.7%\n",
            "Čas za to iteracijo, 0.21322011947631836, smo na: 95.8%\n",
            "Čas za to iteracijo, 0.20151305198669434, smo na: 95.89999999999999%\n",
            "Čas za to iteracijo, 0.2408006191253662, smo na: 96.0%\n",
            "Čas za to iteracijo, 0.22069001197814941, smo na: 96.1%\n",
            "Čas za to iteracijo, 0.19249176979064941, smo na: 96.2%\n",
            "Čas za to iteracijo, 0.21964073181152344, smo na: 96.3%\n",
            "Čas za to iteracijo, 0.23889923095703125, smo na: 96.39999999999999%\n",
            "Čas za to iteracijo, 0.19449329376220703, smo na: 96.5%\n",
            "Čas za to iteracijo, 0.24505281448364258, smo na: 96.6%\n",
            "Čas za to iteracijo, 0.22298884391784668, smo na: 96.7%\n",
            "Čas za to iteracijo, 0.2223196029663086, smo na: 96.8%\n",
            "Čas za to iteracijo, 0.19760560989379883, smo na: 96.89999999999999%\n",
            "Čas za to iteracijo, 0.21694135665893555, smo na: 97.0%\n",
            "Čas za to iteracijo, 0.20770812034606934, smo na: 97.1%\n",
            "Čas za to iteracijo, 0.17284011840820312, smo na: 97.2%\n",
            "Čas za to iteracijo, 0.2315673828125, smo na: 97.3%\n",
            "Čas za to iteracijo, 0.17519831657409668, smo na: 97.39999999999999%\n",
            "Čas za to iteracijo, 0.2917780876159668, smo na: 97.5%\n",
            "Čas za to iteracijo, 0.17309355735778809, smo na: 97.6%\n",
            "Čas za to iteracijo, 0.16462182998657227, smo na: 97.7%\n",
            "Čas za to iteracijo, 0.23141264915466309, smo na: 97.8%\n",
            "Čas za to iteracijo, 0.24322271347045898, smo na: 97.89999999999999%\n",
            "Čas za to iteracijo, 0.19741415977478027, smo na: 98.0%\n",
            "Čas za to iteracijo, 0.188218355178833, smo na: 98.1%\n",
            "Čas za to iteracijo, 0.1558065414428711, smo na: 98.2%\n",
            "Čas za to iteracijo, 0.22979354858398438, smo na: 98.3%\n",
            "Čas za to iteracijo, 0.17849516868591309, smo na: 98.4%\n",
            "Čas za to iteracijo, 0.21998929977416992, smo na: 98.5%\n",
            "Čas za to iteracijo, 0.23686456680297852, smo na: 98.6%\n",
            "Čas za to iteracijo, 0.21591806411743164, smo na: 98.7%\n",
            "Čas za to iteracijo, 0.19771790504455566, smo na: 98.8%\n",
            "Čas za to iteracijo, 0.29596686363220215, smo na: 98.9%\n",
            "Čas za to iteracijo, 0.23232126235961914, smo na: 99.0%\n",
            "Čas za to iteracijo, 0.23910737037658691, smo na: 99.1%\n",
            "Čas za to iteracijo, 0.20692038536071777, smo na: 99.2%\n",
            "Čas za to iteracijo, 0.22545886039733887, smo na: 99.3%\n",
            "Čas za to iteracijo, 0.21706199645996094, smo na: 99.4%\n",
            "Čas za to iteracijo, 0.1841120719909668, smo na: 99.5%\n",
            "Čas za to iteracijo, 0.17793941497802734, smo na: 99.6%\n",
            "Čas za to iteracijo, 0.25516748428344727, smo na: 99.7%\n",
            "Čas za to iteracijo, 1.1769239902496338, smo na: 99.8%\n",
            "Čas za to iteracijo, 0.2408287525177002, smo na: 99.9%\n",
            "Čas za to iteracijo, 0.19511938095092773, smo na: 100.0%\n"
          ],
          "name": "stdout"
        }
      ]
    },
    {
      "cell_type": "code",
      "metadata": {
        "id": "gS9SBiZiOyXw"
      },
      "source": [
        "import os\n",
        "import glob"
      ],
      "id": "gS9SBiZiOyXw",
      "execution_count": 10,
      "outputs": []
    },
    {
      "cell_type": "code",
      "metadata": {
        "id": "Vs_CQEKzPsqJ"
      },
      "source": [
        "big_df = pd.DataFrame()"
      ],
      "id": "Vs_CQEKzPsqJ",
      "execution_count": 11,
      "outputs": []
    },
    {
      "cell_type": "code",
      "metadata": {
        "id": "PuHsBIcgO_n8",
        "outputId": "fa288438-cd4c-4784-ffe6-b0293f9a299f",
        "colab": {
          "base_uri": "https://localhost:8080/",
          "height": 1000
        }
      },
      "source": [
        "i = 0\n",
        "for f in glob.glob('/content/drive/MyDrive/*.pkl'):\n",
        "  temp = pd.read_pickle(f)\n",
        "  big_df = big_df.append(temp)\n",
        "  i+=1\n",
        "  if i % 100 == 0:\n",
        "    print(100*i/(len(glob.glob('/content/drive/MyDrive/*.pkl'))))\n",
        "big_df"
      ],
      "id": "PuHsBIcgO_n8",
      "execution_count": 12,
      "outputs": [
        {
          "output_type": "stream",
          "text": [
            "2.4691358024691357\n",
            "4.938271604938271\n",
            "7.407407407407407\n",
            "9.876543209876543\n",
            "12.345679012345679\n",
            "14.814814814814815\n",
            "17.28395061728395\n",
            "19.753086419753085\n",
            "22.22222222222222\n",
            "24.691358024691358\n",
            "27.160493827160494\n",
            "29.62962962962963\n",
            "32.098765432098766\n",
            "34.5679012345679\n",
            "37.03703703703704\n",
            "39.50617283950617\n",
            "41.97530864197531\n",
            "44.44444444444444\n",
            "46.91358024691358\n",
            "49.382716049382715\n",
            "51.851851851851855\n",
            "54.32098765432099\n",
            "56.79012345679013\n",
            "59.25925925925926\n",
            "61.72839506172839\n",
            "64.19753086419753\n",
            "66.66666666666667\n",
            "69.1358024691358\n",
            "71.60493827160494\n",
            "74.07407407407408\n",
            "76.54320987654322\n",
            "79.01234567901234\n",
            "81.48148148148148\n",
            "83.95061728395062\n",
            "86.41975308641975\n",
            "88.88888888888889\n",
            "91.35802469135803\n",
            "93.82716049382717\n",
            "96.29629629629629\n",
            "98.76543209876543\n"
          ],
          "name": "stdout"
        },
        {
          "output_type": "execute_result",
          "data": {
            "text/html": [
              "<div>\n",
              "<style scoped>\n",
              "    .dataframe tbody tr th:only-of-type {\n",
              "        vertical-align: middle;\n",
              "    }\n",
              "\n",
              "    .dataframe tbody tr th {\n",
              "        vertical-align: top;\n",
              "    }\n",
              "\n",
              "    .dataframe thead th {\n",
              "        text-align: right;\n",
              "    }\n",
              "</style>\n",
              "<table border=\"1\" class=\"dataframe\">\n",
              "  <thead>\n",
              "    <tr style=\"text-align: right;\">\n",
              "      <th></th>\n",
              "      <th>Unnamed: 0</th>\n",
              "      <th>label</th>\n",
              "      <th>preprocessed_text</th>\n",
              "      <th>appended</th>\n",
              "      <th>bert_emmbeding</th>\n",
              "      <th>bert_sentence_emm</th>\n",
              "      <th>elmo_sentence</th>\n",
              "    </tr>\n",
              "  </thead>\n",
              "  <tbody>\n",
              "    <tr>\n",
              "      <th>61340</th>\n",
              "      <td>61773</td>\n",
              "      <td>severe_toxic</td>\n",
              "      <td>suck my cock motherfuckers why don t you fuck...</td>\n",
              "      <td>suck my cock motherfuckers why don t you fuck...</td>\n",
              "      <td>[ 9.30619538e-01  3.85009815e-01  2.40492993e-...</td>\n",
              "      <td>[0.2155110239982605, 0.20219053328037262, -0.0...</td>\n",
              "      <td>[0.2443406879901886, -0.5525169372558594, 0.01...</td>\n",
              "    </tr>\n",
              "    <tr>\n",
              "      <th>61341</th>\n",
              "      <td>61774</td>\n",
              "      <td>severe_toxic</td>\n",
              "      <td>fap so i herd u were still a fucking wanker is...</td>\n",
              "      <td>fap so i herd u were still a fucking wanker is...</td>\n",
              "      <td>[ 7.34545668e-01  1.64129293e-01  2.00675428e-...</td>\n",
              "      <td>[0.07144057750701904, 0.10810859501361847, -0....</td>\n",
              "      <td>[0.03207191079854965, -0.38199320435523987, 0....</td>\n",
              "    </tr>\n",
              "    <tr>\n",
              "      <th>61342</th>\n",
              "      <td>61775</td>\n",
              "      <td>severe_toxic</td>\n",
              "      <td>josef mengele never worked on a scientific ba...</td>\n",
              "      <td>josef mengele never worked on a scientific ba...</td>\n",
              "      <td>[ 8.32445830e-01  5.54360906e-01 -1.58358643e-...</td>\n",
              "      <td>[0.007855305448174477, 0.2709958851337433, 0.0...</td>\n",
              "      <td>[-0.021751997992396355, -0.32511425018310547, ...</td>\n",
              "    </tr>\n",
              "    <tr>\n",
              "      <th>61343</th>\n",
              "      <td>61776</td>\n",
              "      <td>severe_toxic</td>\n",
              "      <td>my cock you failed again to block me wikipedia...</td>\n",
              "      <td>my cock you failed again to block me wikipedia...</td>\n",
              "      <td>[ 5.33574671e-01  1.86936411e-01  6.40570079e-...</td>\n",
              "      <td>[0.18784163892269135, 0.05127450078725815, -0....</td>\n",
              "      <td>[-0.007243484258651733, -0.4541970193386078, 0...</td>\n",
              "    </tr>\n",
              "    <tr>\n",
              "      <th>61344</th>\n",
              "      <td>61777</td>\n",
              "      <td>severe_toxic</td>\n",
              "      <td>oh fuck you you partisan asshole you never ste...</td>\n",
              "      <td>oh fuck you you partisan asshole you never ste...</td>\n",
              "      <td>[ 8.83090933e-01  4.76757526e-01  4.16040421e-...</td>\n",
              "      <td>[0.05299034342169762, -0.22730588912963867, 0....</td>\n",
              "      <td>[0.07033226639032364, -0.326628714799881, 0.04...</td>\n",
              "    </tr>\n",
              "    <tr>\n",
              "      <th>...</th>\n",
              "      <td>...</td>\n",
              "      <td>...</td>\n",
              "      <td>...</td>\n",
              "      <td>...</td>\n",
              "      <td>...</td>\n",
              "      <td>...</td>\n",
              "      <td>...</td>\n",
              "    </tr>\n",
              "    <tr>\n",
              "      <th>3973</th>\n",
              "      <td>3976</td>\n",
              "      <td>abuse</td>\n",
              "      <td>how can you expect anyone to take you seriousl...</td>\n",
              "      <td>how can you expect anyone to take you seriousl...</td>\n",
              "      <td>[ 9.41075504e-01  3.37572306e-01 -8.61335248e-...</td>\n",
              "      <td>[0.0325782410800457, 0.044886041432619095, -0....</td>\n",
              "      <td>[0.036360640078783035, -0.2946488559246063, -0...</td>\n",
              "    </tr>\n",
              "    <tr>\n",
              "      <th>3974</th>\n",
              "      <td>3977</td>\n",
              "      <td>abuse</td>\n",
              "      <td>testing the mothefucker new and improved capab...</td>\n",
              "      <td>testing the mothefucker new and improved capab...</td>\n",
              "      <td>[ 4.67681468e-01 -3.06223109e-02  1.85525734e-...</td>\n",
              "      <td>[-0.10289394110441208, 0.1475052386522293, 0.0...</td>\n",
              "      <td>[0.2204449623823166, -0.04802954941987991, -0....</td>\n",
              "    </tr>\n",
              "    <tr>\n",
              "      <th>3975</th>\n",
              "      <td>3978</td>\n",
              "      <td>abuse</td>\n",
              "      <td>op saw the word manbabies in the url and said ...</td>\n",
              "      <td>op saw the word manbabies in the url and said ...</td>\n",
              "      <td>[ 2.20974147e-01  3.83333176e-01  2.78720379e-...</td>\n",
              "      <td>[-0.01329519972205162, 0.027182534337043762, 0...</td>\n",
              "      <td>[-0.1446760594844818, -0.2553308308124542, 0.1...</td>\n",
              "    </tr>\n",
              "    <tr>\n",
              "      <th>3976</th>\n",
              "      <td>3979</td>\n",
              "      <td>abuse</td>\n",
              "      <td>yea fuck you gay people and brown people i was...</td>\n",
              "      <td>yea fuck you gay people and brown people i was...</td>\n",
              "      <td>[ 8.51975501e-01  7.69343555e-01  2.46158354e-...</td>\n",
              "      <td>[-0.006593125406652689, 0.19076307117938995, 0...</td>\n",
              "      <td>[0.0014787140535190701, -0.3578803539276123, 0...</td>\n",
              "    </tr>\n",
              "    <tr>\n",
              "      <th>3977</th>\n",
              "      <td>3980</td>\n",
              "      <td>abuse</td>\n",
              "      <td>you believe these fucking people on this subre...</td>\n",
              "      <td>you believe these fucking people on this subre...</td>\n",
              "      <td>[ 9.26119268e-01  4.12121415e-01 -1.76657699e-...</td>\n",
              "      <td>[0.042533084750175476, 0.33261218667030334, 0....</td>\n",
              "      <td>[-0.00984865240752697, -0.38765421509742737, 0...</td>\n",
              "    </tr>\n",
              "  </tbody>\n",
              "</table>\n",
              "<p>77117 rows × 7 columns</p>\n",
              "</div>"
            ],
            "text/plain": [
              "       Unnamed: 0  ...                                      elmo_sentence\n",
              "61340       61773  ...  [0.2443406879901886, -0.5525169372558594, 0.01...\n",
              "61341       61774  ...  [0.03207191079854965, -0.38199320435523987, 0....\n",
              "61342       61775  ...  [-0.021751997992396355, -0.32511425018310547, ...\n",
              "61343       61776  ...  [-0.007243484258651733, -0.4541970193386078, 0...\n",
              "61344       61777  ...  [0.07033226639032364, -0.326628714799881, 0.04...\n",
              "...           ...  ...                                                ...\n",
              "3973         3976  ...  [0.036360640078783035, -0.2946488559246063, -0...\n",
              "3974         3977  ...  [0.2204449623823166, -0.04802954941987991, -0....\n",
              "3975         3978  ...  [-0.1446760594844818, -0.2553308308124542, 0.1...\n",
              "3976         3979  ...  [0.0014787140535190701, -0.3578803539276123, 0...\n",
              "3977         3980  ...  [-0.00984865240752697, -0.38765421509742737, 0...\n",
              "\n",
              "[77117 rows x 7 columns]"
            ]
          },
          "metadata": {
            "tags": []
          },
          "execution_count": 12
        }
      ]
    },
    {
      "cell_type": "code",
      "metadata": {
        "id": "Vuib0jicT-qn"
      },
      "source": [
        "big_df.to_pickle(\"final_df.pkl\")"
      ],
      "id": "Vuib0jicT-qn",
      "execution_count": 13,
      "outputs": []
    },
    {
      "cell_type": "code",
      "metadata": {
        "id": "sPdwtl0BpVux",
        "outputId": "2116a73b-6874-4c43-c18f-b506ab999bb7",
        "colab": {
          "base_uri": "https://localhost:8080/",
          "height": 318
        }
      },
      "source": [
        "big_df.sample(2)"
      ],
      "id": "sPdwtl0BpVux",
      "execution_count": 20,
      "outputs": [
        {
          "output_type": "execute_result",
          "data": {
            "text/html": [
              "<div>\n",
              "<style scoped>\n",
              "    .dataframe tbody tr th:only-of-type {\n",
              "        vertical-align: middle;\n",
              "    }\n",
              "\n",
              "    .dataframe tbody tr th {\n",
              "        vertical-align: top;\n",
              "    }\n",
              "\n",
              "    .dataframe thead th {\n",
              "        text-align: right;\n",
              "    }\n",
              "</style>\n",
              "<table border=\"1\" class=\"dataframe\">\n",
              "  <thead>\n",
              "    <tr style=\"text-align: right;\">\n",
              "      <th></th>\n",
              "      <th>Unnamed: 0</th>\n",
              "      <th>label</th>\n",
              "      <th>preprocessed_text</th>\n",
              "      <th>appended</th>\n",
              "      <th>bert_emmbeding</th>\n",
              "      <th>bert_sentence_emm</th>\n",
              "      <th>elmo_sentence</th>\n",
              "    </tr>\n",
              "  </thead>\n",
              "  <tbody>\n",
              "    <tr>\n",
              "      <th>18919</th>\n",
              "      <td>18935</td>\n",
              "      <td>hostile</td>\n",
              "      <td>it is awful that i do not feel safe as an immi...</td>\n",
              "      <td>it is awful that i do not feel safe as an immi...</td>\n",
              "      <td>[-2.20606923e-01 -2.42669612e-01 -5.48121512e-...</td>\n",
              "      <td>[-0.09696795791387558, 0.17563417553901672, 0....</td>\n",
              "      <td>[-0.26823073625564575, -0.23854795098304749, -...</td>\n",
              "    </tr>\n",
              "    <tr>\n",
              "      <th>46127</th>\n",
              "      <td>46484</td>\n",
              "      <td>offensive</td>\n",
              "      <td>i lost all my respect for my brother cause you...</td>\n",
              "      <td>i lost all my respect for my brother cause you...</td>\n",
              "      <td>[-1.42929375e-01  4.66040432e-01 -6.47009015e-...</td>\n",
              "      <td>[-0.008973411284387112, 0.04470272734761238, -...</td>\n",
              "      <td>[-0.1051262766122818, -0.21873603761196136, -0...</td>\n",
              "    </tr>\n",
              "  </tbody>\n",
              "</table>\n",
              "</div>"
            ],
            "text/plain": [
              "       Unnamed: 0  ...                                      elmo_sentence\n",
              "18919       18935  ...  [-0.26823073625564575, -0.23854795098304749, -...\n",
              "46127       46484  ...  [-0.1051262766122818, -0.21873603761196136, -0...\n",
              "\n",
              "[2 rows x 7 columns]"
            ]
          },
          "metadata": {
            "tags": []
          },
          "execution_count": 20
        }
      ]
    },
    {
      "cell_type": "code",
      "metadata": {
        "id": "OG4mVZ0mfacc"
      },
      "source": [
        "big_df.to_pickle(\"/content/drive/MyDrive/Android/final_df.pkl\")"
      ],
      "id": "OG4mVZ0mfacc",
      "execution_count": 21,
      "outputs": []
    },
    {
      "cell_type": "markdown",
      "metadata": {
        "id": "STwWj397-1UM"
      },
      "source": [
        ""
      ],
      "id": "STwWj397-1UM"
    },
    {
      "cell_type": "code",
      "metadata": {
        "id": "f6d8953a"
      },
      "source": [
        "embeddings_words.numpy().shape"
      ],
      "id": "f6d8953a",
      "execution_count": null,
      "outputs": []
    },
    {
      "cell_type": "code",
      "metadata": {
        "id": "ceQJrfqQr9K8",
        "outputId": "636587e3-95e5-4892-f276-6e1b292b31a1",
        "colab": {
          "base_uri": "https://localhost:8080/",
          "height": 998
        }
      },
      "source": [
        "pd.read_pickle(\"/content/drive/MyDrive/Android/final_df.pkl\")"
      ],
      "id": "ceQJrfqQr9K8",
      "execution_count": 22,
      "outputs": [
        {
          "output_type": "execute_result",
          "data": {
            "text/html": [
              "<div>\n",
              "<style scoped>\n",
              "    .dataframe tbody tr th:only-of-type {\n",
              "        vertical-align: middle;\n",
              "    }\n",
              "\n",
              "    .dataframe tbody tr th {\n",
              "        vertical-align: top;\n",
              "    }\n",
              "\n",
              "    .dataframe thead th {\n",
              "        text-align: right;\n",
              "    }\n",
              "</style>\n",
              "<table border=\"1\" class=\"dataframe\">\n",
              "  <thead>\n",
              "    <tr style=\"text-align: right;\">\n",
              "      <th></th>\n",
              "      <th>Unnamed: 0</th>\n",
              "      <th>label</th>\n",
              "      <th>preprocessed_text</th>\n",
              "      <th>appended</th>\n",
              "      <th>bert_emmbeding</th>\n",
              "      <th>bert_sentence_emm</th>\n",
              "      <th>elmo_sentence</th>\n",
              "    </tr>\n",
              "  </thead>\n",
              "  <tbody>\n",
              "    <tr>\n",
              "      <th>61340</th>\n",
              "      <td>61773</td>\n",
              "      <td>severe_toxic</td>\n",
              "      <td>suck my cock motherfuckers why don t you fuck...</td>\n",
              "      <td>suck my cock motherfuckers why don t you fuck...</td>\n",
              "      <td>[ 9.30619538e-01  3.85009815e-01  2.40492993e-...</td>\n",
              "      <td>[0.2155110239982605, 0.20219053328037262, -0.0...</td>\n",
              "      <td>[0.2443406879901886, -0.5525169372558594, 0.01...</td>\n",
              "    </tr>\n",
              "    <tr>\n",
              "      <th>61341</th>\n",
              "      <td>61774</td>\n",
              "      <td>severe_toxic</td>\n",
              "      <td>fap so i herd u were still a fucking wanker is...</td>\n",
              "      <td>fap so i herd u were still a fucking wanker is...</td>\n",
              "      <td>[ 7.34545668e-01  1.64129293e-01  2.00675428e-...</td>\n",
              "      <td>[0.07144057750701904, 0.10810859501361847, -0....</td>\n",
              "      <td>[0.03207191079854965, -0.38199320435523987, 0....</td>\n",
              "    </tr>\n",
              "    <tr>\n",
              "      <th>61342</th>\n",
              "      <td>61775</td>\n",
              "      <td>severe_toxic</td>\n",
              "      <td>josef mengele never worked on a scientific ba...</td>\n",
              "      <td>josef mengele never worked on a scientific ba...</td>\n",
              "      <td>[ 8.32445830e-01  5.54360906e-01 -1.58358643e-...</td>\n",
              "      <td>[0.007855305448174477, 0.2709958851337433, 0.0...</td>\n",
              "      <td>[-0.021751997992396355, -0.32511425018310547, ...</td>\n",
              "    </tr>\n",
              "    <tr>\n",
              "      <th>61343</th>\n",
              "      <td>61776</td>\n",
              "      <td>severe_toxic</td>\n",
              "      <td>my cock you failed again to block me wikipedia...</td>\n",
              "      <td>my cock you failed again to block me wikipedia...</td>\n",
              "      <td>[ 5.33574671e-01  1.86936411e-01  6.40570079e-...</td>\n",
              "      <td>[0.18784163892269135, 0.05127450078725815, -0....</td>\n",
              "      <td>[-0.007243484258651733, -0.4541970193386078, 0...</td>\n",
              "    </tr>\n",
              "    <tr>\n",
              "      <th>61344</th>\n",
              "      <td>61777</td>\n",
              "      <td>severe_toxic</td>\n",
              "      <td>oh fuck you you partisan asshole you never ste...</td>\n",
              "      <td>oh fuck you you partisan asshole you never ste...</td>\n",
              "      <td>[ 8.83090933e-01  4.76757526e-01  4.16040421e-...</td>\n",
              "      <td>[0.05299034342169762, -0.22730588912963867, 0....</td>\n",
              "      <td>[0.07033226639032364, -0.326628714799881, 0.04...</td>\n",
              "    </tr>\n",
              "    <tr>\n",
              "      <th>...</th>\n",
              "      <td>...</td>\n",
              "      <td>...</td>\n",
              "      <td>...</td>\n",
              "      <td>...</td>\n",
              "      <td>...</td>\n",
              "      <td>...</td>\n",
              "      <td>...</td>\n",
              "    </tr>\n",
              "    <tr>\n",
              "      <th>3973</th>\n",
              "      <td>3976</td>\n",
              "      <td>abuse</td>\n",
              "      <td>how can you expect anyone to take you seriousl...</td>\n",
              "      <td>how can you expect anyone to take you seriousl...</td>\n",
              "      <td>[ 9.41075504e-01  3.37572306e-01 -8.61335248e-...</td>\n",
              "      <td>[0.0325782410800457, 0.044886041432619095, -0....</td>\n",
              "      <td>[0.036360640078783035, -0.2946488559246063, -0...</td>\n",
              "    </tr>\n",
              "    <tr>\n",
              "      <th>3974</th>\n",
              "      <td>3977</td>\n",
              "      <td>abuse</td>\n",
              "      <td>testing the mothefucker new and improved capab...</td>\n",
              "      <td>testing the mothefucker new and improved capab...</td>\n",
              "      <td>[ 4.67681468e-01 -3.06223109e-02  1.85525734e-...</td>\n",
              "      <td>[-0.10289394110441208, 0.1475052386522293, 0.0...</td>\n",
              "      <td>[0.2204449623823166, -0.04802954941987991, -0....</td>\n",
              "    </tr>\n",
              "    <tr>\n",
              "      <th>3975</th>\n",
              "      <td>3978</td>\n",
              "      <td>abuse</td>\n",
              "      <td>op saw the word manbabies in the url and said ...</td>\n",
              "      <td>op saw the word manbabies in the url and said ...</td>\n",
              "      <td>[ 2.20974147e-01  3.83333176e-01  2.78720379e-...</td>\n",
              "      <td>[-0.01329519972205162, 0.027182534337043762, 0...</td>\n",
              "      <td>[-0.1446760594844818, -0.2553308308124542, 0.1...</td>\n",
              "    </tr>\n",
              "    <tr>\n",
              "      <th>3976</th>\n",
              "      <td>3979</td>\n",
              "      <td>abuse</td>\n",
              "      <td>yea fuck you gay people and brown people i was...</td>\n",
              "      <td>yea fuck you gay people and brown people i was...</td>\n",
              "      <td>[ 8.51975501e-01  7.69343555e-01  2.46158354e-...</td>\n",
              "      <td>[-0.006593125406652689, 0.19076307117938995, 0...</td>\n",
              "      <td>[0.0014787140535190701, -0.3578803539276123, 0...</td>\n",
              "    </tr>\n",
              "    <tr>\n",
              "      <th>3977</th>\n",
              "      <td>3980</td>\n",
              "      <td>abuse</td>\n",
              "      <td>you believe these fucking people on this subre...</td>\n",
              "      <td>you believe these fucking people on this subre...</td>\n",
              "      <td>[ 9.26119268e-01  4.12121415e-01 -1.76657699e-...</td>\n",
              "      <td>[0.042533084750175476, 0.33261218667030334, 0....</td>\n",
              "      <td>[-0.00984865240752697, -0.38765421509742737, 0...</td>\n",
              "    </tr>\n",
              "  </tbody>\n",
              "</table>\n",
              "<p>77117 rows × 7 columns</p>\n",
              "</div>"
            ],
            "text/plain": [
              "       Unnamed: 0  ...                                      elmo_sentence\n",
              "61340       61773  ...  [0.2443406879901886, -0.5525169372558594, 0.01...\n",
              "61341       61774  ...  [0.03207191079854965, -0.38199320435523987, 0....\n",
              "61342       61775  ...  [-0.021751997992396355, -0.32511425018310547, ...\n",
              "61343       61776  ...  [-0.007243484258651733, -0.4541970193386078, 0...\n",
              "61344       61777  ...  [0.07033226639032364, -0.326628714799881, 0.04...\n",
              "...           ...  ...                                                ...\n",
              "3973         3976  ...  [0.036360640078783035, -0.2946488559246063, -0...\n",
              "3974         3977  ...  [0.2204449623823166, -0.04802954941987991, -0....\n",
              "3975         3978  ...  [-0.1446760594844818, -0.2553308308124542, 0.1...\n",
              "3976         3979  ...  [0.0014787140535190701, -0.3578803539276123, 0...\n",
              "3977         3980  ...  [-0.00984865240752697, -0.38765421509742737, 0...\n",
              "\n",
              "[77117 rows x 7 columns]"
            ]
          },
          "metadata": {
            "tags": []
          },
          "execution_count": 22
        }
      ]
    },
    {
      "cell_type": "code",
      "metadata": {
        "id": "8aad10e8"
      },
      "source": [
        "embeddings_sent.numpy().shape"
      ],
      "id": "8aad10e8",
      "execution_count": null,
      "outputs": []
    },
    {
      "cell_type": "markdown",
      "metadata": {
        "id": "f83ff521"
      },
      "source": [
        "Just for last word (this is racist etc) embedding."
      ],
      "id": "f83ff521"
    },
    {
      "cell_type": "code",
      "metadata": {
        "id": "0ba6a5dc"
      },
      "source": [
        "df['elmo_word'] = embeddings_words.numpy().tolist()\n",
        "df['elmo_word'] = df.progress_apply(lambda x: x['elmo_word'][x['idx']-1], axis = 1)"
      ],
      "id": "0ba6a5dc",
      "execution_count": null,
      "outputs": []
    },
    {
      "cell_type": "code",
      "metadata": {
        "id": "8fce23d8"
      },
      "source": [
        "df['elmo_sentence'] = embeddings_sent.numpy().tolist()"
      ],
      "id": "8fce23d8",
      "execution_count": null,
      "outputs": []
    },
    {
      "cell_type": "code",
      "metadata": {
        "id": "4823e5ec"
      },
      "source": [
        "df['idx'] = df.progress_apply(lambda x: len(x['appended'].split()), axis = 1)\n",
        "df['shape'] = df.progress_apply(lambda x: len(x['elmo_word']), axis = 1)\n",
        "df['idx'] = df.progress_apply(lambda x: min(x['idx'], x['shape']), axis = 1)"
      ],
      "id": "4823e5ec",
      "execution_count": null,
      "outputs": []
    },
    {
      "cell_type": "code",
      "metadata": {
        "tags": [],
        "id": "5cf02ead"
      },
      "source": [
        "df.tail(2)"
      ],
      "id": "5cf02ead",
      "execution_count": null,
      "outputs": []
    },
    {
      "cell_type": "code",
      "metadata": {
        "id": "b0667d8e"
      },
      "source": [
        "df = df.drop(['elmo_words', 'idx', 'shape'], axis = 1)"
      ],
      "id": "b0667d8e",
      "execution_count": null,
      "outputs": []
    },
    {
      "cell_type": "code",
      "metadata": {
        "id": "4b66efc9"
      },
      "source": [
        "df"
      ],
      "id": "4b66efc9",
      "execution_count": null,
      "outputs": []
    },
    {
      "cell_type": "code",
      "metadata": {
        "id": "e0c2b6f8"
      },
      "source": [
        "df.to_pickle('elmobert.pkl')"
      ],
      "id": "e0c2b6f8",
      "execution_count": null,
      "outputs": []
    },
    {
      "cell_type": "code",
      "metadata": {
        "id": "Iha8TKtCykZw"
      },
      "source": [
        "from google.colab import files"
      ],
      "id": "Iha8TKtCykZw",
      "execution_count": 23,
      "outputs": []
    },
    {
      "cell_type": "code",
      "metadata": {
        "id": "Pcmp7jP2ym9e",
        "outputId": "b8e960aa-be57-43c8-e862-f1f7558800a9",
        "colab": {
          "base_uri": "https://localhost:8080/",
          "height": 17
        }
      },
      "source": [
        "files.download('final_df.pkl')"
      ],
      "id": "Pcmp7jP2ym9e",
      "execution_count": 24,
      "outputs": [
        {
          "output_type": "display_data",
          "data": {
            "application/javascript": [
              "\n",
              "    async function download(id, filename, size) {\n",
              "      if (!google.colab.kernel.accessAllowed) {\n",
              "        return;\n",
              "      }\n",
              "      const div = document.createElement('div');\n",
              "      const label = document.createElement('label');\n",
              "      label.textContent = `Downloading \"${filename}\": `;\n",
              "      div.appendChild(label);\n",
              "      const progress = document.createElement('progress');\n",
              "      progress.max = size;\n",
              "      div.appendChild(progress);\n",
              "      document.body.appendChild(div);\n",
              "\n",
              "      const buffers = [];\n",
              "      let downloaded = 0;\n",
              "\n",
              "      const channel = await google.colab.kernel.comms.open(id);\n",
              "      // Send a message to notify the kernel that we're ready.\n",
              "      channel.send({})\n",
              "\n",
              "      for await (const message of channel.messages) {\n",
              "        // Send a message to notify the kernel that we're ready.\n",
              "        channel.send({})\n",
              "        if (message.buffers) {\n",
              "          for (const buffer of message.buffers) {\n",
              "            buffers.push(buffer);\n",
              "            downloaded += buffer.byteLength;\n",
              "            progress.value = downloaded;\n",
              "          }\n",
              "        }\n",
              "      }\n",
              "      const blob = new Blob(buffers, {type: 'application/binary'});\n",
              "      const a = document.createElement('a');\n",
              "      a.href = window.URL.createObjectURL(blob);\n",
              "      a.download = filename;\n",
              "      div.appendChild(a);\n",
              "      a.click();\n",
              "      div.remove();\n",
              "    }\n",
              "  "
            ],
            "text/plain": [
              "<IPython.core.display.Javascript object>"
            ]
          },
          "metadata": {
            "tags": []
          }
        },
        {
          "output_type": "display_data",
          "data": {
            "application/javascript": [
              "download(\"download_511ac378-24bf-4491-a8f3-caf2de5005f4\", \"final_df.pkl\", 2968068934)"
            ],
            "text/plain": [
              "<IPython.core.display.Javascript object>"
            ]
          },
          "metadata": {
            "tags": []
          }
        }
      ]
    }
  ]
}