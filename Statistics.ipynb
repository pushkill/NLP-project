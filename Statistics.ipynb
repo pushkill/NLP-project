{
 "cells": [
  {
   "cell_type": "markdown",
   "id": "fca3f430-10b1-4b90-898a-d2ce1c579456",
   "metadata": {},
   "source": [
    "# STATISTICS\n",
    "\n",
    "This is just notebook where we produce some statistical analysis of our datasets."
   ]
  },
  {
   "cell_type": "code",
   "execution_count": 7,
   "id": "7b56b000",
   "metadata": {},
   "outputs": [],
   "source": [
    "import pandas as pd"
   ]
  },
  {
   "cell_type": "code",
   "execution_count": 15,
   "id": "36cb2828",
   "metadata": {},
   "outputs": [
    {
     "name": "stdout",
     "output_type": "stream",
     "text": [
      "(77668, 2)\n",
      "\\begin{tabular}{lr}\n",
      "\\toprule\n",
      "{} &   text \\\\\n",
      "label         &        \\\\\n",
      "\\midrule\n",
      "abuse         &   5059 \\\\\n",
      "cyberbullying &    339 \\\\\n",
      "harassment    &   5285 \\\\\n",
      "hateful       &   2573 \\\\\n",
      "homophobic    &   5059 \\\\\n",
      "hostile       &   2377 \\\\\n",
      "identity\\_hate &   1405 \\\\\n",
      "insult        &   7877 \\\\\n",
      "obscene       &   8449 \\\\\n",
      "offensive     &  19641 \\\\\n",
      "profane       &    667 \\\\\n",
      "racist        &   1939 \\\\\n",
      "severe\\_toxic  &   1595 \\\\\n",
      "sexist        &   3148 \\\\\n",
      "slur          &   5059 \\\\\n",
      "threat        &    478 \\\\\n",
      "vulgar        &   6718 \\\\\n",
      "\\bottomrule\n",
      "\\end{tabular}\n",
      "\n"
     ]
    }
   ],
   "source": [
    "df = pd.read_csv('full_dataset_all_labels.csv')\n",
    "#print(df.shape)\n",
    "counts = df.groupby(['label']).count()\n",
    "print(counts.to_latex())"
   ]
  }
 ],
 "metadata": {
  "kernelspec": {
   "display_name": "Python 3",
   "language": "python",
   "name": "python3"
  },
  "language_info": {
   "codemirror_mode": {
    "name": "ipython",
    "version": 3
   },
   "file_extension": ".py",
   "mimetype": "text/x-python",
   "name": "python",
   "nbconvert_exporter": "python",
   "pygments_lexer": "ipython3",
   "version": "3.9.4"
  }
 },
 "nbformat": 4,
 "nbformat_minor": 5
}
