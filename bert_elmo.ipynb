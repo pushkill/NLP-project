{
 "cells": [
  {
   "cell_type": "code",
   "execution_count": 1,
   "id": "487cfc43",
   "metadata": {},
   "outputs": [
    {
     "name": "stderr",
     "output_type": "stream",
     "text": [
      "[nltk_data] Downloading package stopwords to\n",
      "[nltk_data]     C:\\Users\\mihat\\AppData\\Roaming\\nltk_data...\n",
      "[nltk_data]   Package stopwords is already up-to-date!\n",
      "[nltk_data] Downloading package punkt to\n",
      "[nltk_data]     C:\\Users\\mihat\\AppData\\Roaming\\nltk_data...\n",
      "[nltk_data]   Package punkt is already up-to-date!\n",
      "[nltk_data] Downloading package wordnet to\n",
      "[nltk_data]     C:\\Users\\mihat\\AppData\\Roaming\\nltk_data...\n",
      "[nltk_data]   Package wordnet is already up-to-date!\n"
     ]
    },
    {
     "data": {
      "text/plain": [
       "True"
      ]
     },
     "execution_count": 1,
     "metadata": {},
     "output_type": "execute_result"
    }
   ],
   "source": [
    "import pandas as pd\n",
    "import seaborn as sns\n",
    "import numpy as np\n",
    "import nltk\n",
    "import os\n",
    "from nltk.tokenize import word_tokenize\n",
    "from nltk.corpus import stopwords\n",
    "from nltk.stem.wordnet import WordNetLemmatizer\n",
    "from nltk.stem.porter import PorterStemmer\n",
    "from nltk.stem import SnowballStemmer\n",
    "from sklearn.feature_extraction.text import TfidfVectorizer\n",
    "from sklearn.manifold import TSNE\n",
    "from sklearn.manifold import MDS\n",
    "from sklearn.decomposition import PCA\n",
    "import matplotlib.patheffects as PathEffects\n",
    "import matplotlib.pyplot as plt\n",
    "import matplotlib.cm as cm\n",
    "import string\n",
    "import re\n",
    "from collections import Counter\n",
    "from tqdm import tqdm\n",
    "import time\n",
    "tqdm.pandas()\n",
    "\n",
    "\n",
    "nltk.download('stopwords')\n",
    "nltk.download('punkt')\n",
    "nltk.download('wordnet')"
   ]
  },
  {
   "cell_type": "code",
   "execution_count": 90,
   "id": "7043097b",
   "metadata": {},
   "outputs": [],
   "source": [
    "cwd = os.getcwd()\n",
    "df = pd.read_csv( os.path.join(cwd, 'full_dataset_all_labels.csv'))\n",
    "stop_words=set(stopwords.words('english') + list(string.punctuation))\n",
    "stop_words.add('rt') # add word rt (meaning retweet) to stop words\n",
    "df = pd.read_csv('full_dataset_all_labels.csv')\n",
    "#df = df.sample(10000)"
   ]
  },
  {
   "cell_type": "code",
   "execution_count": 91,
   "id": "1b347de2",
   "metadata": {},
   "outputs": [],
   "source": [
    "def print_some_texts(columns, df):\n",
    "    text_idxs = [47, 7240, 7241, 8013, 14500, 16500, 16304, 18300,  21750, 34036, 45159, 71920]\n",
    "    for i in text_idxs:\n",
    "        for column in columns:\n",
    "            print(df[column].iloc[i])\n",
    "#print_some_texts(['text'])\n",
    "\n",
    "def tokenize(text):\n",
    "    #print(text)\n",
    "    text = preprocess_text(text)\n",
    "    #print(text)\n",
    "    tokens = word_tokenize(text)\n",
    "    filtered_tokens = []\n",
    "    # Filter out any tokens not containing letters (e.g., numeric tokens, raw punctuation). (adapted from lab example)\n",
    "    for token in tokens:\n",
    "        if re.search('[a-zA-Z]', token):\n",
    "            if token not in stop_words and len(token) > 2:\n",
    "                filtered_tokens.append(token)\n",
    "    return filtered_tokens\n",
    "    \n",
    "\n",
    "def preprocess_text(text):\n",
    "    text = re.sub(r\"http\\S+\", \" \", text)            # remove urls\n",
    "    text = re.sub(\"@[A-Za-z0-9]+\",\"\", text)         # remove twitter handle\n",
    "    text = re.sub(\"&amp;\",\"\", text)                  # &amp; is a special character for ampersand\n",
    "    text = re.sub('<USER>', '', text)               # remove '<USER>' as there are some such strings as user or url is masked with this string\n",
    "    text = re.sub('<URL>', '', text)\n",
    "    text = text.lower() \n",
    "    text = re.sub('[^a-zA-Z]', ' ', text)           # Remove punctuations\n",
    "    text = text.lower()                             # Convert to lowercase\n",
    "    text = re.sub(\"&lt;/?.*?&gt;\",\" &lt;&gt; \",text)#remove tags\n",
    "    text = re.sub(\"(\\\\d|\\\\W)+\",\" \",text)            # remove special characters and digits\n",
    "    return text\n",
    "    \n",
    "    \n",
    "def stemming(tokens):\n",
    "    stemmer = SnowballStemmer(\"english\")\n",
    "    stems = [stemmer.stem(token) for token in tokens]\n",
    "    return stems\n",
    "\n",
    "def lemmatizing(tokens):\n",
    "    lemmatizer = WordNetLemmatizer()\n",
    "    lemmas = [lemmatizer.lemmatize(token) for token in tokens]\n",
    "    return lemmas"
   ]
  },
  {
   "cell_type": "code",
   "execution_count": 92,
   "id": "e4239977",
   "metadata": {},
   "outputs": [],
   "source": [
    "df['preprocessed_text']=df['text'].apply(preprocess_text)"
   ]
  },
  {
   "cell_type": "code",
   "execution_count": 93,
   "id": "123cac33",
   "metadata": {},
   "outputs": [],
   "source": [
    "df['appended'] = df['preprocessed_text']+', this is '+df['label']"
   ]
  },
  {
   "cell_type": "markdown",
   "id": "44059a2b",
   "metadata": {
    "tags": []
   },
   "source": [
    "# BERT"
   ]
  },
  {
   "cell_type": "markdown",
   "id": "af921fe0",
   "metadata": {
    "tags": []
   },
   "source": [
    "## DEFAULT BERT"
   ]
  },
  {
   "cell_type": "code",
   "execution_count": 94,
   "id": "f036368e",
   "metadata": {},
   "outputs": [],
   "source": [
    "from transformers import BertTokenizer, BertModel\n",
    "import torch"
   ]
  },
  {
   "cell_type": "code",
   "execution_count": 95,
   "id": "86c042f2",
   "metadata": {},
   "outputs": [],
   "source": [
    "model = BertModel.from_pretrained('bert-base-uncased', output_hidden_states = True,)\n",
    "tokenizer = BertTokenizer.from_pretrained('bert-base-uncased')"
   ]
  },
  {
   "cell_type": "code",
   "execution_count": 96,
   "id": "11f7d1af",
   "metadata": {},
   "outputs": [],
   "source": [
    "def get_bert_embeddings(tokens_tensor, segments_tensors, model):\n",
    "    \"\"\"Get embeddings from an embedding model\n",
    "    \n",
    "    Args:\n",
    "        tokens_tensor (obj): Torch tensor size [n_tokens]\n",
    "            with token ids for each token in text\n",
    "        segments_tensors (obj): Torch tensor size [n_tokens]\n",
    "            with segment ids for each token in text\n",
    "        model (obj): Embedding model to generate embeddings\n",
    "            from token and segment ids\n",
    "    \n",
    "    Returns:\n",
    "        list: List of list of floats of size\n",
    "            [n_tokens, n_embedding_dimensions]\n",
    "            containing embeddings for each token\n",
    "    \n",
    "    \"\"\"\n",
    "    \n",
    "    \n",
    "    # Gradient calculation id disabled\n",
    "    # Model is in inference mode\n",
    "    with torch.no_grad():\n",
    "        outputs = model(tokens_tensor, segments_tensors)\n",
    "        # Removing the first hidden state\n",
    "        # The first state is the input state\n",
    "        hidden_states = outputs[2][1:]\n",
    "    \n",
    "    # Getting embeddings from the final BERT layer\n",
    "    token_embeddings = hidden_states[-1]\n",
    "    # Collapsing the tensor into 1-dimension\n",
    "    token_embeddings = torch.squeeze(token_embeddings, dim=0)\n",
    "    # Converting torchtensors to lists\n",
    "    list_token_embeddings = [token_embed.tolist() for token_embed in token_embeddings]\n",
    "\n",
    "    return np.array(list_token_embeddings)"
   ]
  },
  {
   "cell_type": "code",
   "execution_count": 97,
   "id": "9cb9f72d",
   "metadata": {},
   "outputs": [],
   "source": [
    "def bert_text_preparation(text, tokenizer):\n",
    "    \"\"\"Preparing the input for BERT\n",
    "    \n",
    "    Takes a string argument and performs\n",
    "    pre-processing like adding special tokens,\n",
    "    tokenization, tokens to ids, and tokens to\n",
    "    segment ids. All tokens are mapped to seg-\n",
    "    ment id = 1.\n",
    "    \n",
    "    Args:\n",
    "        text (str): Text to be converted\n",
    "        tokenizer (obj): Tokenizer object\n",
    "            to convert text into BERT-re-\n",
    "            adable tokens and ids\n",
    "        \n",
    "    Returns:\n",
    "        list: List of BERT-readable tokens\n",
    "        obj: Torch tensor with token ids\n",
    "        obj: Torch tensor segment ids\n",
    "    \n",
    "    \n",
    "    \"\"\"\n",
    "    marked_text = \"[CLS] \" + text + \" [SEP]\"\n",
    "    tokenized_text = tokenizer.tokenize(marked_text)\n",
    "    indexed_tokens = tokenizer.convert_tokens_to_ids(tokenized_text)\n",
    "    segments_ids = [1]*len(indexed_tokens)\n",
    "\n",
    "    # Convert inputs to PyTorch tensors\n",
    "    tokens_tensor = torch.tensor([indexed_tokens])\n",
    "    segments_tensors = torch.tensor([segments_ids])\n",
    "    return pd.Series([tokenized_text, tokens_tensor, segments_tensors], index = ['tokenized_text', 'tokens_tensor', 'segments_tensors'])"
   ]
  },
  {
   "cell_type": "code",
   "execution_count": 98,
   "id": "f1f56e1b",
   "metadata": {},
   "outputs": [],
   "source": [
    "labels = df['label'].unique()\n",
    "dict_labels_len = {}\n",
    "for l in labels:\n",
    "    x = bert_text_preparation(l, tokenizer)\n",
    "    dict_labels_len[l] = len(x[0])-2"
   ]
  },
  {
   "cell_type": "code",
   "execution_count": 99,
   "id": "40dfa606",
   "metadata": {
    "tags": []
   },
   "outputs": [
    {
     "name": "stderr",
     "output_type": "stream",
     "text": [
      "100%|████████████████████████████████████████████████████████████████████████████████████████████████████████████████████████████████████████████████████████████████████| 77668/77668 [02:27<00:00, 526.68it/s]\n"
     ]
    }
   ],
   "source": [
    "df[['tokenized_text', 'tokens_tensor', 'segments_tensors']] = df['appended'].progress_apply(bert_text_preparation, tokenizer = tokenizer)"
   ]
  },
  {
   "cell_type": "code",
   "execution_count": 100,
   "id": "8370a631",
   "metadata": {},
   "outputs": [],
   "source": [
    "df['leng'] = df['tokens_tensor'].apply(lambda x: x.size()[1])\n",
    "\n",
    "df = df[df['leng']  <= 512]\n",
    "df.drop(['leng'], axis = 1, inplace=True)"
   ]
  },
  {
   "cell_type": "code",
   "execution_count": 101,
   "id": "814f75fc",
   "metadata": {
    "tags": []
   },
   "outputs": [
    {
     "name": "stderr",
     "output_type": "stream",
     "text": [
      "100%|███████████████████████████████████████████████████████████████████████████████████████████████████████████████████████████████████████████████████████████████████| 77194/77194 [6:31:33<00:00,  3.29it/s]\n"
     ]
    }
   ],
   "source": [
    "df['bert_emmbeding'] = df.progress_apply(lambda x: get_bert_embeddings(x['tokens_tensor'], x['segments_tensors'], model), axis=1)"
   ]
  },
  {
   "cell_type": "code",
   "execution_count": 102,
   "id": "f312c7ca",
   "metadata": {},
   "outputs": [
    {
     "name": "stderr",
     "output_type": "stream",
     "text": [
      "100%|███████████████████████████████████████████████████████████████████████████████████████████████████████████████████████████████████████████████████████████████████| 77194/77194 [00:09<00:00, 8254.39it/s]\n"
     ]
    },
    {
     "data": {
      "text/plain": [
       "0         [abuse]\n",
       "1         [abuse]\n",
       "2         [abuse]\n",
       "3         [abuse]\n",
       "4         [abuse]\n",
       "           ...   \n",
       "77663    [vulgar]\n",
       "77664    [vulgar]\n",
       "77665    [vulgar]\n",
       "77666    [vulgar]\n",
       "77667    [vulgar]\n",
       "Length: 77194, dtype: object"
      ]
     },
     "execution_count": 102,
     "metadata": {},
     "output_type": "execute_result"
    }
   ],
   "source": [
    "df.progress_apply(lambda x: x['tokenized_text'][- dict_labels_len[x['label']]-1:-1], axis = 1)"
   ]
  },
  {
   "cell_type": "code",
   "execution_count": 103,
   "id": "37cff7ca",
   "metadata": {},
   "outputs": [
    {
     "name": "stderr",
     "output_type": "stream",
     "text": [
      "100%|████████████████████████████████████████████████████████████████████████████████████████████████████████████████████████████████████████████████████████████████████| 77194/77194 [01:51<00:00, 692.84it/s]\n"
     ]
    },
    {
     "data": {
      "text/html": [
       "<div>\n",
       "<style scoped>\n",
       "    .dataframe tbody tr th:only-of-type {\n",
       "        vertical-align: middle;\n",
       "    }\n",
       "\n",
       "    .dataframe tbody tr th {\n",
       "        vertical-align: top;\n",
       "    }\n",
       "\n",
       "    .dataframe thead th {\n",
       "        text-align: right;\n",
       "    }\n",
       "</style>\n",
       "<table border=\"1\" class=\"dataframe\">\n",
       "  <thead>\n",
       "    <tr style=\"text-align: right;\">\n",
       "      <th></th>\n",
       "      <th>text</th>\n",
       "      <th>label</th>\n",
       "      <th>preprocessed_text</th>\n",
       "      <th>appended</th>\n",
       "      <th>tokenized_text</th>\n",
       "      <th>tokens_tensor</th>\n",
       "      <th>segments_tensors</th>\n",
       "      <th>bert_emmbeding</th>\n",
       "    </tr>\n",
       "  </thead>\n",
       "  <tbody>\n",
       "    <tr>\n",
       "      <th>23753</th>\n",
       "      <td>\"\\n\\n Stop your fucking spamming \\n\\nI have to...</td>\n",
       "      <td>insult</td>\n",
       "      <td>stop your fucking spamming i have told you an...</td>\n",
       "      <td>stop your fucking spamming i have told you an...</td>\n",
       "      <td>[[CLS], stop, your, fucking, spa, ##mming, i, ...</td>\n",
       "      <td>[[tensor(101), tensor(2644), tensor(2115), ten...</td>\n",
       "      <td>[[tensor(1), tensor(1), tensor(1), tensor(1), ...</td>\n",
       "      <td>[0.14338752627372742, -0.4059569239616394, -0....</td>\n",
       "    </tr>\n",
       "  </tbody>\n",
       "</table>\n",
       "</div>"
      ],
      "text/plain": [
       "                                                    text   label  \\\n",
       "23753  \"\\n\\n Stop your fucking spamming \\n\\nI have to...  insult   \n",
       "\n",
       "                                       preprocessed_text  \\\n",
       "23753   stop your fucking spamming i have told you an...   \n",
       "\n",
       "                                                appended  \\\n",
       "23753   stop your fucking spamming i have told you an...   \n",
       "\n",
       "                                          tokenized_text  \\\n",
       "23753  [[CLS], stop, your, fucking, spa, ##mming, i, ...   \n",
       "\n",
       "                                           tokens_tensor  \\\n",
       "23753  [[tensor(101), tensor(2644), tensor(2115), ten...   \n",
       "\n",
       "                                        segments_tensors  \\\n",
       "23753  [[tensor(1), tensor(1), tensor(1), tensor(1), ...   \n",
       "\n",
       "                                          bert_emmbeding  \n",
       "23753  [0.14338752627372742, -0.4059569239616394, -0....  "
      ]
     },
     "execution_count": 103,
     "metadata": {},
     "output_type": "execute_result"
    }
   ],
   "source": [
    "df['bert_emmbeding'] = df.progress_apply(lambda x: np.average(x['bert_emmbeding'][- dict_labels_len[x['label']]-1:-1], axis = 0), axis = 1)\n",
    "df.sample()"
   ]
  },
  {
   "cell_type": "markdown",
   "id": "93ed1f53",
   "metadata": {},
   "source": [
    "## BERT WITH SENTENCE EMMBEDINGS"
   ]
  },
  {
   "cell_type": "code",
   "execution_count": 104,
   "id": "9afa4d85",
   "metadata": {},
   "outputs": [],
   "source": [
    "from sentence_transformers import SentenceTransformer\n",
    "model = SentenceTransformer('stsb-mpnet-base-v2')"
   ]
  },
  {
   "cell_type": "code",
   "execution_count": 105,
   "id": "546deb4b",
   "metadata": {
    "tags": []
   },
   "outputs": [],
   "source": [
    "sentences = df['preprocessed_text'].to_numpy()\n",
    "sentence_embeddings = model.encode(sentences)"
   ]
  },
  {
   "cell_type": "code",
   "execution_count": 106,
   "id": "2f6c6e15",
   "metadata": {},
   "outputs": [],
   "source": [
    "df['bert_sentence_emm'] = sentence_embeddings.tolist()"
   ]
  },
  {
   "cell_type": "markdown",
   "id": "57c59c67",
   "metadata": {},
   "source": [
    "# ELMO"
   ]
  },
  {
   "cell_type": "code",
   "execution_count": 2,
   "id": "ae2b3060",
   "metadata": {},
   "outputs": [],
   "source": [
    "import tensorflow as tf\n",
    "import tensorflow_hub as hub"
   ]
  },
  {
   "cell_type": "code",
   "execution_count": 3,
   "id": "0288e0b6",
   "metadata": {},
   "outputs": [],
   "source": [
    "elmo = hub.load(\"https://tfhub.dev/google/elmo/3\").signatures['default']"
   ]
  },
  {
   "cell_type": "code",
   "execution_count": 4,
   "id": "2accdbc6",
   "metadata": {},
   "outputs": [],
   "source": [
    "df = pd.read_pickle('first.pkl')"
   ]
  },
  {
   "cell_type": "code",
   "execution_count": 5,
   "id": "613a047a",
   "metadata": {},
   "outputs": [],
   "source": [
    "df = df.drop(['tokens_tensor', 'segments_tensors', 'tokenized_text', 'text'], axis = 1)"
   ]
  },
  {
   "cell_type": "code",
   "execution_count": 6,
   "id": "46148c8c",
   "metadata": {},
   "outputs": [],
   "source": [
    "dfs = np.array_split(df, 1000)"
   ]
  },
  {
   "cell_type": "code",
   "execution_count": 7,
   "id": "7d1d7755",
   "metadata": {},
   "outputs": [
    {
     "data": {
      "text/html": [
       "<div>\n",
       "<style scoped>\n",
       "    .dataframe tbody tr th:only-of-type {\n",
       "        vertical-align: middle;\n",
       "    }\n",
       "\n",
       "    .dataframe tbody tr th {\n",
       "        vertical-align: top;\n",
       "    }\n",
       "\n",
       "    .dataframe thead th {\n",
       "        text-align: right;\n",
       "    }\n",
       "</style>\n",
       "<table border=\"1\" class=\"dataframe\">\n",
       "  <thead>\n",
       "    <tr style=\"text-align: right;\">\n",
       "      <th></th>\n",
       "      <th>label</th>\n",
       "      <th>preprocessed_text</th>\n",
       "      <th>appended</th>\n",
       "      <th>bert_emmbeding</th>\n",
       "      <th>bert_sentence_emm</th>\n",
       "    </tr>\n",
       "  </thead>\n",
       "  <tbody>\n",
       "    <tr>\n",
       "      <th>31681</th>\n",
       "      <td>obscene</td>\n",
       "      <td>continuous vandalism by turkish users and sham...</td>\n",
       "      <td>continuous vandalism by turkish users and sham...</td>\n",
       "      <td>[0.520959734916687, -0.18024805188179016, -0.2...</td>\n",
       "      <td>[0.06637714058160782, -0.01583930104970932, -0...</td>\n",
       "    </tr>\n",
       "    <tr>\n",
       "      <th>6100</th>\n",
       "      <td>harassment</td>\n",
       "      <td>white boys are taking over whitepower</td>\n",
       "      <td>white boys are taking over whitepower , this i...</td>\n",
       "      <td>[0.3563718795776367, 0.1874101459980011, -0.25...</td>\n",
       "      <td>[-0.05086810886859894, 0.3138611316680908, 0.0...</td>\n",
       "    </tr>\n",
       "    <tr>\n",
       "      <th>29717</th>\n",
       "      <td>insult</td>\n",
       "      <td>no you have not explained how x is y is someh...</td>\n",
       "      <td>no you have not explained how x is y is someh...</td>\n",
       "      <td>[0.05588417500257492, -0.3176025152206421, -0....</td>\n",
       "      <td>[0.019041109830141068, 0.16298703849315643, 0....</td>\n",
       "    </tr>\n",
       "    <tr>\n",
       "      <th>23029</th>\n",
       "      <td>insult</td>\n",
       "      <td>i m sorry i missed the whole personal attack i...</td>\n",
       "      <td>i m sorry i missed the whole personal attack i...</td>\n",
       "      <td>[0.032701119780540466, -0.5897225737571716, -0...</td>\n",
       "      <td>[0.08567946404218674, 0.030805688351392746, 0....</td>\n",
       "    </tr>\n",
       "    <tr>\n",
       "      <th>36257</th>\n",
       "      <td>obscene</td>\n",
       "      <td>what a cowardly jew lmfao stick to picking on ...</td>\n",
       "      <td>what a cowardly jew lmfao stick to picking on ...</td>\n",
       "      <td>[0.042388223111629486, 0.32024621963500977, -0...</td>\n",
       "      <td>[0.08007101714611053, 0.0718226283788681, -0.0...</td>\n",
       "    </tr>\n",
       "    <tr>\n",
       "      <th>1338</th>\n",
       "      <td>abuse</td>\n",
       "      <td>hi dave fuck you and fuck your company have a ...</td>\n",
       "      <td>hi dave fuck you and fuck your company have a ...</td>\n",
       "      <td>[0.9103267192840576, 1.017844557762146, 0.3483...</td>\n",
       "      <td>[-0.029665006324648857, -0.21877291798591614, ...</td>\n",
       "    </tr>\n",
       "    <tr>\n",
       "      <th>26896</th>\n",
       "      <td>insult</td>\n",
       "      <td>i was speaking the truth u son of a bitch go f...</td>\n",
       "      <td>i was speaking the truth u son of a bitch go f...</td>\n",
       "      <td>[0.2123800367116928, -0.02327074483036995, 0.0...</td>\n",
       "      <td>[0.04634561017155647, 0.12414926290512085, 0.0...</td>\n",
       "    </tr>\n",
       "    <tr>\n",
       "      <th>7844</th>\n",
       "      <td>harassment</td>\n",
       "      <td>fucking mexicans theyre trying to get me drunk...</td>\n",
       "      <td>fucking mexicans theyre trying to get me drunk...</td>\n",
       "      <td>[0.2118196040391922, -0.35716161131858826, 0.1...</td>\n",
       "      <td>[-0.05534539371728897, 0.1591799110174179, 0.0...</td>\n",
       "    </tr>\n",
       "    <tr>\n",
       "      <th>32764</th>\n",
       "      <td>obscene</td>\n",
       "      <td>dear stuttering self righteous self absorbed i...</td>\n",
       "      <td>dear stuttering self righteous self absorbed i...</td>\n",
       "      <td>[0.09141566604375839, 0.2472246289253235, 0.10...</td>\n",
       "      <td>[0.10966053605079651, 0.19132399559020996, -0....</td>\n",
       "    </tr>\n",
       "    <tr>\n",
       "      <th>54986</th>\n",
       "      <td>offensive</td>\n",
       "      <td>the internet will make you think these bitches...</td>\n",
       "      <td>the internet will make you think these bitches...</td>\n",
       "      <td>[0.42969536781311035, 0.41116148233413696, -0....</td>\n",
       "      <td>[0.20444633066654205, 0.12598277628421783, -0....</td>\n",
       "    </tr>\n",
       "  </tbody>\n",
       "</table>\n",
       "</div>"
      ],
      "text/plain": [
       "            label                                  preprocessed_text  \\\n",
       "31681     obscene  continuous vandalism by turkish users and sham...   \n",
       "6100   harassment             white boys are taking over whitepower    \n",
       "29717      insult   no you have not explained how x is y is someh...   \n",
       "23029      insult  i m sorry i missed the whole personal attack i...   \n",
       "36257     obscene  what a cowardly jew lmfao stick to picking on ...   \n",
       "1338        abuse  hi dave fuck you and fuck your company have a ...   \n",
       "26896      insult  i was speaking the truth u son of a bitch go f...   \n",
       "7844   harassment  fucking mexicans theyre trying to get me drunk...   \n",
       "32764     obscene  dear stuttering self righteous self absorbed i...   \n",
       "54986   offensive  the internet will make you think these bitches...   \n",
       "\n",
       "                                                appended  \\\n",
       "31681  continuous vandalism by turkish users and sham...   \n",
       "6100   white boys are taking over whitepower , this i...   \n",
       "29717   no you have not explained how x is y is someh...   \n",
       "23029  i m sorry i missed the whole personal attack i...   \n",
       "36257  what a cowardly jew lmfao stick to picking on ...   \n",
       "1338   hi dave fuck you and fuck your company have a ...   \n",
       "26896  i was speaking the truth u son of a bitch go f...   \n",
       "7844   fucking mexicans theyre trying to get me drunk...   \n",
       "32764  dear stuttering self righteous self absorbed i...   \n",
       "54986  the internet will make you think these bitches...   \n",
       "\n",
       "                                          bert_emmbeding  \\\n",
       "31681  [0.520959734916687, -0.18024805188179016, -0.2...   \n",
       "6100   [0.3563718795776367, 0.1874101459980011, -0.25...   \n",
       "29717  [0.05588417500257492, -0.3176025152206421, -0....   \n",
       "23029  [0.032701119780540466, -0.5897225737571716, -0...   \n",
       "36257  [0.042388223111629486, 0.32024621963500977, -0...   \n",
       "1338   [0.9103267192840576, 1.017844557762146, 0.3483...   \n",
       "26896  [0.2123800367116928, -0.02327074483036995, 0.0...   \n",
       "7844   [0.2118196040391922, -0.35716161131858826, 0.1...   \n",
       "32764  [0.09141566604375839, 0.2472246289253235, 0.10...   \n",
       "54986  [0.42969536781311035, 0.41116148233413696, -0....   \n",
       "\n",
       "                                       bert_sentence_emm  \n",
       "31681  [0.06637714058160782, -0.01583930104970932, -0...  \n",
       "6100   [-0.05086810886859894, 0.3138611316680908, 0.0...  \n",
       "29717  [0.019041109830141068, 0.16298703849315643, 0....  \n",
       "23029  [0.08567946404218674, 0.030805688351392746, 0....  \n",
       "36257  [0.08007101714611053, 0.0718226283788681, -0.0...  \n",
       "1338   [-0.029665006324648857, -0.21877291798591614, ...  \n",
       "26896  [0.04634561017155647, 0.12414926290512085, 0.0...  \n",
       "7844   [-0.05534539371728897, 0.1591799110174179, 0.0...  \n",
       "32764  [0.10966053605079651, 0.19132399559020996, -0....  \n",
       "54986  [0.20444633066654205, 0.12598277628421783, -0....  "
      ]
     },
     "execution_count": 7,
     "metadata": {},
     "output_type": "execute_result"
    }
   ],
   "source": [
    "df.sample(10)"
   ]
  },
  {
   "cell_type": "code",
   "execution_count": null,
   "id": "88b61353",
   "metadata": {
    "tags": []
   },
   "outputs": [
    {
     "name": "stdout",
     "output_type": "stream",
     "text": [
      "Čas za to iteracijo, 18.73149538040161, smo na: 0.1%\n",
      "Čas za to iteracijo, 26.078139066696167, smo na: 0.2%\n",
      "Čas za to iteracijo, 8.836330890655518, smo na: 0.3%\n",
      "Čas za to iteracijo, 78.21854329109192, smo na: 0.4%\n",
      "Čas za to iteracijo, 17.50725793838501, smo na: 0.5%\n",
      "Čas za to iteracijo, 161.9465880393982, smo na: 0.6%\n",
      "Čas za to iteracijo, 18.48947525024414, smo na: 0.7000000000000001%\n",
      "Čas za to iteracijo, 8.145770072937012, smo na: 0.8%\n",
      "Čas za to iteracijo, 29.316986560821533, smo na: 0.8999999999999999%\n",
      "Čas za to iteracijo, 59.076897382736206, smo na: 1.0%\n",
      "Čas za to iteracijo, 76.24508857727051, smo na: 1.0999999999999999%\n",
      "Čas za to iteracijo, 59.525686740875244, smo na: 1.2%\n",
      "Čas za to iteracijo, 42.69805669784546, smo na: 1.3%\n",
      "Čas za to iteracijo, 31.684549570083618, smo na: 1.4000000000000001%\n",
      "Čas za to iteracijo, 33.45064568519592, smo na: 1.5%\n",
      "Čas za to iteracijo, 43.79299783706665, smo na: 1.6%\n",
      "Čas za to iteracijo, 20.168543338775635, smo na: 1.7000000000000002%\n",
      "Čas za to iteracijo, 29.414660215377808, smo na: 1.7999999999999998%\n",
      "Čas za to iteracijo, 24.06215000152588, smo na: 1.9%\n",
      "Čas za to iteracijo, 113.10820960998535, smo na: 2.0%\n",
      "Čas za to iteracijo, 78.84105277061462, smo na: 2.1%\n",
      "Čas za to iteracijo, 87.71223783493042, smo na: 2.1999999999999997%\n",
      "Čas za to iteracijo, 70.70484590530396, smo na: 2.3%\n"
     ]
    }
   ],
   "source": [
    "for i,small in enumerate(dfs):\n",
    "    start = time.time()\n",
    "    lst =  small['preprocessed_text'].tolist()\n",
    "    #lst2 = small['appended'].tolist()\n",
    "    #embeddings_words = elmo(tf.constant(lst))[\"elmo\"]\n",
    "    embeddings_sent = elmo(tf.constant(lst))[\"default\"]\n",
    "    small['elmo_sentence'] = embeddings_sent.numpy().tolist()\n",
    "    #small['elmo_word'] = embeddings_words.numpy().tolist()\n",
    "    #small['idx'] = small.progress_apply(lambda x: len(x['appended'].split()), axis = 1)\n",
    "    #small['shape'] = small.progress_apply(lambda x: len(x['elmo_word']), axis = 1)\n",
    "    #small['idx'] = small.progress_apply(lambda x: min(x['idx'], x['shape']), axis = 1)\n",
    "    #small['elmo_word'] = small.progress_apply(lambda x: x['elmo_word'][x['idx']-1], axis = 1)\n",
    "    #small = small.drop([ 'idx', 'shape'], axis = 1)\n",
    "    print(f\"Čas za to iteracijo, {time.time()-start}, smo na: {(i+1)/len(dfs)*100}%\")"
   ]
  },
  {
   "cell_type": "code",
   "execution_count": null,
   "id": "f6d8953a",
   "metadata": {},
   "outputs": [],
   "source": [
    "embeddings_words.numpy().shape"
   ]
  },
  {
   "cell_type": "code",
   "execution_count": null,
   "id": "8aad10e8",
   "metadata": {},
   "outputs": [],
   "source": [
    "embeddings_sent.numpy().shape"
   ]
  },
  {
   "cell_type": "markdown",
   "id": "f83ff521",
   "metadata": {},
   "source": [
    "Just for last word (this is racist etc) embedding."
   ]
  },
  {
   "cell_type": "code",
   "execution_count": null,
   "id": "0ba6a5dc",
   "metadata": {},
   "outputs": [],
   "source": [
    "df['elmo_word'] = embeddings_words.numpy().tolist()\n",
    "df['elmo_word'] = df.progress_apply(lambda x: x['elmo_word'][x['idx']-1], axis = 1)"
   ]
  },
  {
   "cell_type": "code",
   "execution_count": null,
   "id": "8fce23d8",
   "metadata": {},
   "outputs": [],
   "source": [
    "df['elmo_sentence'] = embeddings_sent.numpy().tolist()"
   ]
  },
  {
   "cell_type": "code",
   "execution_count": null,
   "id": "4823e5ec",
   "metadata": {},
   "outputs": [],
   "source": [
    "df['idx'] = df.progress_apply(lambda x: len(x['appended'].split()), axis = 1)\n",
    "df['shape'] = df.progress_apply(lambda x: len(x['elmo_word']), axis = 1)\n",
    "df['idx'] = df.progress_apply(lambda x: min(x['idx'], x['shape']), axis = 1)"
   ]
  },
  {
   "cell_type": "code",
   "execution_count": null,
   "id": "5cf02ead",
   "metadata": {
    "tags": []
   },
   "outputs": [],
   "source": [
    "df.tail(2)"
   ]
  },
  {
   "cell_type": "code",
   "execution_count": null,
   "id": "b0667d8e",
   "metadata": {},
   "outputs": [],
   "source": [
    "df = df.drop(['elmo_words', 'idx', 'shape'], axis = 1)"
   ]
  },
  {
   "cell_type": "code",
   "execution_count": null,
   "id": "4b66efc9",
   "metadata": {},
   "outputs": [],
   "source": [
    "df"
   ]
  },
  {
   "cell_type": "code",
   "execution_count": null,
   "id": "e0c2b6f8",
   "metadata": {},
   "outputs": [],
   "source": [
    "df.to_pickle('elmobert.pkl')"
   ]
  }
 ],
 "metadata": {
  "kernelspec": {
   "display_name": "Python 3",
   "language": "python",
   "name": "python3"
  },
  "language_info": {
   "codemirror_mode": {
    "name": "ipython",
    "version": 3
   },
   "file_extension": ".py",
   "mimetype": "text/x-python",
   "name": "python",
   "nbconvert_exporter": "python",
   "pygments_lexer": "ipython3",
   "version": "3.8.8"
  }
 },
 "nbformat": 4,
 "nbformat_minor": 5
}
