{
 "cells": [
  {
   "cell_type": "code",
   "execution_count": 1,
   "id": "7b4f82b3",
   "metadata": {},
   "outputs": [
    {
     "name": "stderr",
     "output_type": "stream",
     "text": [
      "[nltk_data] Downloading package stopwords to\n",
      "[nltk_data]     C:\\Users\\mihat\\AppData\\Roaming\\nltk_data...\n",
      "[nltk_data]   Package stopwords is already up-to-date!\n",
      "[nltk_data] Downloading package punkt to\n",
      "[nltk_data]     C:\\Users\\mihat\\AppData\\Roaming\\nltk_data...\n",
      "[nltk_data]   Package punkt is already up-to-date!\n",
      "[nltk_data] Downloading package wordnet to\n",
      "[nltk_data]     C:\\Users\\mihat\\AppData\\Roaming\\nltk_data...\n",
      "[nltk_data]   Package wordnet is already up-to-date!\n"
     ]
    },
    {
     "data": {
      "text/plain": [
       "True"
      ]
     },
     "execution_count": 1,
     "metadata": {},
     "output_type": "execute_result"
    }
   ],
   "source": [
    "import pandas as pd\n",
    "import seaborn as sns\n",
    "import numpy as np\n",
    "import nltk\n",
    "import os\n",
    "from nltk.tokenize import word_tokenize\n",
    "from nltk.corpus import stopwords\n",
    "from nltk.stem.wordnet import WordNetLemmatizer\n",
    "from nltk.stem.porter import PorterStemmer\n",
    "from nltk.stem import SnowballStemmer\n",
    "from sklearn.feature_extraction.text import TfidfVectorizer\n",
    "from sklearn.manifold import TSNE\n",
    "from sklearn.manifold import MDS\n",
    "from sklearn.decomposition import PCA\n",
    "import matplotlib.patheffects as PathEffects\n",
    "import matplotlib.pyplot as plt\n",
    "import matplotlib.cm as cm\n",
    "import string\n",
    "import re\n",
    "from collections import Counter\n",
    "from tqdm import tqdm\n",
    "import time\n",
    "tqdm.pandas()\n",
    "\n",
    "\n",
    "nltk.download('stopwords')\n",
    "nltk.download('punkt')\n",
    "nltk.download('wordnet')"
   ]
  },
  {
   "cell_type": "code",
   "execution_count": 90,
   "id": "95b6af61",
   "metadata": {},
   "outputs": [],
   "source": [
    "cwd = os.getcwd()\n",
    "df = pd.read_csv( os.path.join(cwd, 'full_dataset_all_labels.csv'))\n",
    "stop_words=set(stopwords.words('english') + list(string.punctuation))\n",
    "stop_words.add('rt') # add word rt (meaning retweet) to stop words\n",
    "df = pd.read_csv('full_dataset_all_labels.csv')\n",
    "#df = df.sample(10000)"
   ]
  },
  {
   "cell_type": "code",
   "execution_count": 91,
   "id": "906187e0",
   "metadata": {},
   "outputs": [],
   "source": [
    "def print_some_texts(columns, df):\n",
    "    text_idxs = [47, 7240, 7241, 8013, 14500, 16500, 16304, 18300,  21750, 34036, 45159, 71920]\n",
    "    for i in text_idxs:\n",
    "        for column in columns:\n",
    "            print(df[column].iloc[i])\n",
    "#print_some_texts(['text'])\n",
    "\n",
    "def tokenize(text):\n",
    "    #print(text)\n",
    "    text = preprocess_text(text)\n",
    "    #print(text)\n",
    "    tokens = word_tokenize(text)\n",
    "    filtered_tokens = []\n",
    "    # Filter out any tokens not containing letters (e.g., numeric tokens, raw punctuation). (adapted from lab example)\n",
    "    for token in tokens:\n",
    "        if re.search('[a-zA-Z]', token):\n",
    "            if token not in stop_words and len(token) > 2:\n",
    "                filtered_tokens.append(token)\n",
    "    return filtered_tokens\n",
    "    \n",
    "\n",
    "def preprocess_text(text):\n",
    "    text = re.sub(r\"http\\S+\", \" \", text)            # remove urls\n",
    "    text = re.sub(\"@[A-Za-z0-9]+\",\"\", text)         # remove twitter handle\n",
    "    text = re.sub(\"&amp;\",\"\", text)                  # &amp; is a special character for ampersand\n",
    "    text = re.sub('<USER>', '', text)               # remove '<USER>' as there are some such strings as user or url is masked with this string\n",
    "    text = re.sub('<URL>', '', text)\n",
    "    text = text.lower() \n",
    "    text = re.sub('[^a-zA-Z]', ' ', text)           # Remove punctuations\n",
    "    text = text.lower()                             # Convert to lowercase\n",
    "    text = re.sub(\"&lt;/?.*?&gt;\",\" &lt;&gt; \",text)#remove tags\n",
    "    text = re.sub(\"(\\\\d|\\\\W)+\",\" \",text)            # remove special characters and digits\n",
    "    return text\n",
    "    \n",
    "    \n",
    "def stemming(tokens):\n",
    "    stemmer = SnowballStemmer(\"english\")\n",
    "    stems = [stemmer.stem(token) for token in tokens]\n",
    "    return stems\n",
    "\n",
    "def lemmatizing(tokens):\n",
    "    lemmatizer = WordNetLemmatizer()\n",
    "    lemmas = [lemmatizer.lemmatize(token) for token in tokens]\n",
    "    return lemmas"
   ]
  },
  {
   "cell_type": "code",
   "execution_count": 92,
   "id": "06c5bee9",
   "metadata": {},
   "outputs": [],
   "source": [
    "df['preprocessed_text']=df['text'].apply(preprocess_text)"
   ]
  },
  {
   "cell_type": "code",
   "execution_count": 93,
   "id": "f5a9ba3c",
   "metadata": {},
   "outputs": [],
   "source": [
    "df['appended'] = df['preprocessed_text']+', this is '+df['label']"
   ]
  },
  {
   "cell_type": "markdown",
   "id": "c53ff0ce",
   "metadata": {},
   "source": [
    "# BERT"
   ]
  },
  {
   "cell_type": "markdown",
   "id": "8fdb7ce7",
   "metadata": {},
   "source": [
    "## DEFAULT BERT"
   ]
  },
  {
   "cell_type": "code",
   "execution_count": 94,
   "id": "c67aac0b",
   "metadata": {},
   "outputs": [],
   "source": [
    "from transformers import BertTokenizer, BertModel\n",
    "import torch"
   ]
  },
  {
   "cell_type": "code",
   "execution_count": 95,
   "id": "5d1c549f",
   "metadata": {},
   "outputs": [],
   "source": [
    "model = BertModel.from_pretrained('bert-base-uncased', output_hidden_states = True,)\n",
    "tokenizer = BertTokenizer.from_pretrained('bert-base-uncased')"
   ]
  },
  {
   "cell_type": "code",
   "execution_count": 96,
   "id": "b4d88a58",
   "metadata": {},
   "outputs": [],
   "source": [
    "def get_bert_embeddings(tokens_tensor, segments_tensors, model):\n",
    "    \"\"\"Get embeddings from an embedding model\n",
    "    \n",
    "    Args:\n",
    "        tokens_tensor (obj): Torch tensor size [n_tokens]\n",
    "            with token ids for each token in text\n",
    "        segments_tensors (obj): Torch tensor size [n_tokens]\n",
    "            with segment ids for each token in text\n",
    "        model (obj): Embedding model to generate embeddings\n",
    "            from token and segment ids\n",
    "    \n",
    "    Returns:\n",
    "        list: List of list of floats of size\n",
    "            [n_tokens, n_embedding_dimensions]\n",
    "            containing embeddings for each token\n",
    "    \n",
    "    \"\"\"\n",
    "    \n",
    "    \n",
    "    # Gradient calculation id disabled\n",
    "    # Model is in inference mode\n",
    "    with torch.no_grad():\n",
    "        outputs = model(tokens_tensor, segments_tensors)\n",
    "        # Removing the first hidden state\n",
    "        # The first state is the input state\n",
    "        hidden_states = outputs[2][1:]\n",
    "    \n",
    "    # Getting embeddings from the final BERT layer\n",
    "    token_embeddings = hidden_states[-1]\n",
    "    # Collapsing the tensor into 1-dimension\n",
    "    token_embeddings = torch.squeeze(token_embeddings, dim=0)\n",
    "    # Converting torchtensors to lists\n",
    "    list_token_embeddings = [token_embed.tolist() for token_embed in token_embeddings]\n",
    "\n",
    "    return np.array(list_token_embeddings)"
   ]
  },
  {
   "cell_type": "code",
   "execution_count": 97,
   "id": "35123eb8",
   "metadata": {},
   "outputs": [],
   "source": [
    "def bert_text_preparation(text, tokenizer):\n",
    "    \"\"\"Preparing the input for BERT\n",
    "    \n",
    "    Takes a string argument and performs\n",
    "    pre-processing like adding special tokens,\n",
    "    tokenization, tokens to ids, and tokens to\n",
    "    segment ids. All tokens are mapped to seg-\n",
    "    ment id = 1.\n",
    "    \n",
    "    Args:\n",
    "        text (str): Text to be converted\n",
    "        tokenizer (obj): Tokenizer object\n",
    "            to convert text into BERT-re-\n",
    "            adable tokens and ids\n",
    "        \n",
    "    Returns:\n",
    "        list: List of BERT-readable tokens\n",
    "        obj: Torch tensor with token ids\n",
    "        obj: Torch tensor segment ids\n",
    "    \n",
    "    \n",
    "    \"\"\"\n",
    "    marked_text = \"[CLS] \" + text + \" [SEP]\"\n",
    "    tokenized_text = tokenizer.tokenize(marked_text)\n",
    "    indexed_tokens = tokenizer.convert_tokens_to_ids(tokenized_text)\n",
    "    segments_ids = [1]*len(indexed_tokens)\n",
    "\n",
    "    # Convert inputs to PyTorch tensors\n",
    "    tokens_tensor = torch.tensor([indexed_tokens])\n",
    "    segments_tensors = torch.tensor([segments_ids])\n",
    "    return pd.Series([tokenized_text, tokens_tensor, segments_tensors], index = ['tokenized_text', 'tokens_tensor', 'segments_tensors'])"
   ]
  },
  {
   "cell_type": "code",
   "execution_count": 98,
   "id": "63d424cc",
   "metadata": {},
   "outputs": [],
   "source": [
    "labels = df['label'].unique()\n",
    "dict_labels_len = {}\n",
    "for l in labels:\n",
    "    x = bert_text_preparation(l, tokenizer)\n",
    "    dict_labels_len[l] = len(x[0])-2"
   ]
  },
  {
   "cell_type": "code",
   "execution_count": 99,
   "id": "a0d4de23",
   "metadata": {
    "tags": []
   },
   "outputs": [
    {
     "name": "stderr",
     "output_type": "stream",
     "text": [
      "100%|████████████████████████████████████████████████████████████████████████████████████████████████████████████████████████████████████████████████████████████████████| 77668/77668 [02:27<00:00, 526.68it/s]\n"
     ]
    }
   ],
   "source": [
    "df[['tokenized_text', 'tokens_tensor', 'segments_tensors']] = df['appended'].progress_apply(bert_text_preparation, tokenizer = tokenizer)"
   ]
  },
  {
   "cell_type": "code",
   "execution_count": 100,
   "id": "a76e0ef5",
   "metadata": {},
   "outputs": [],
   "source": [
    "df['leng'] = df['tokens_tensor'].apply(lambda x: x.size()[1])\n",
    "\n",
    "df = df[df['leng']  <= 512]\n",
    "df.drop(['leng'], axis = 1, inplace=True)"
   ]
  },
  {
   "cell_type": "code",
   "execution_count": 101,
   "id": "7b8418ba",
   "metadata": {
    "tags": []
   },
   "outputs": [
    {
     "name": "stderr",
     "output_type": "stream",
     "text": [
      "100%|███████████████████████████████████████████████████████████████████████████████████████████████████████████████████████████████████████████████████████████████████| 77194/77194 [6:31:33<00:00,  3.29it/s]\n"
     ]
    }
   ],
   "source": [
    "df['bert_emmbeding'] = df.progress_apply(lambda x: get_bert_embeddings(x['tokens_tensor'], x['segments_tensors'], model), axis=1)"
   ]
  },
  {
   "cell_type": "code",
   "execution_count": 102,
   "id": "627325a5",
   "metadata": {},
   "outputs": [
    {
     "name": "stderr",
     "output_type": "stream",
     "text": [
      "100%|███████████████████████████████████████████████████████████████████████████████████████████████████████████████████████████████████████████████████████████████████| 77194/77194 [00:09<00:00, 8254.39it/s]\n"
     ]
    },
    {
     "data": {
      "text/plain": [
       "0         [abuse]\n",
       "1         [abuse]\n",
       "2         [abuse]\n",
       "3         [abuse]\n",
       "4         [abuse]\n",
       "           ...   \n",
       "77663    [vulgar]\n",
       "77664    [vulgar]\n",
       "77665    [vulgar]\n",
       "77666    [vulgar]\n",
       "77667    [vulgar]\n",
       "Length: 77194, dtype: object"
      ]
     },
     "execution_count": 102,
     "metadata": {},
     "output_type": "execute_result"
    }
   ],
   "source": [
    "df.progress_apply(lambda x: x['tokenized_text'][- dict_labels_len[x['label']]-1:-1], axis = 1)"
   ]
  },
  {
   "cell_type": "code",
   "execution_count": 103,
   "id": "1cf856fb",
   "metadata": {},
   "outputs": [
    {
     "name": "stderr",
     "output_type": "stream",
     "text": [
      "100%|████████████████████████████████████████████████████████████████████████████████████████████████████████████████████████████████████████████████████████████████████| 77194/77194 [01:51<00:00, 692.84it/s]\n"
     ]
    },
    {
     "data": {
      "text/html": [
       "<div>\n",
       "<style scoped>\n",
       "    .dataframe tbody tr th:only-of-type {\n",
       "        vertical-align: middle;\n",
       "    }\n",
       "\n",
       "    .dataframe tbody tr th {\n",
       "        vertical-align: top;\n",
       "    }\n",
       "\n",
       "    .dataframe thead th {\n",
       "        text-align: right;\n",
       "    }\n",
       "</style>\n",
       "<table border=\"1\" class=\"dataframe\">\n",
       "  <thead>\n",
       "    <tr style=\"text-align: right;\">\n",
       "      <th></th>\n",
       "      <th>text</th>\n",
       "      <th>label</th>\n",
       "      <th>preprocessed_text</th>\n",
       "      <th>appended</th>\n",
       "      <th>tokenized_text</th>\n",
       "      <th>tokens_tensor</th>\n",
       "      <th>segments_tensors</th>\n",
       "      <th>bert_emmbeding</th>\n",
       "    </tr>\n",
       "  </thead>\n",
       "  <tbody>\n",
       "    <tr>\n",
       "      <th>23753</th>\n",
       "      <td>\"\\n\\n Stop your fucking spamming \\n\\nI have to...</td>\n",
       "      <td>insult</td>\n",
       "      <td>stop your fucking spamming i have told you an...</td>\n",
       "      <td>stop your fucking spamming i have told you an...</td>\n",
       "      <td>[[CLS], stop, your, fucking, spa, ##mming, i, ...</td>\n",
       "      <td>[[tensor(101), tensor(2644), tensor(2115), ten...</td>\n",
       "      <td>[[tensor(1), tensor(1), tensor(1), tensor(1), ...</td>\n",
       "      <td>[0.14338752627372742, -0.4059569239616394, -0....</td>\n",
       "    </tr>\n",
       "  </tbody>\n",
       "</table>\n",
       "</div>"
      ],
      "text/plain": [
       "                                                    text   label  \\\n",
       "23753  \"\\n\\n Stop your fucking spamming \\n\\nI have to...  insult   \n",
       "\n",
       "                                       preprocessed_text  \\\n",
       "23753   stop your fucking spamming i have told you an...   \n",
       "\n",
       "                                                appended  \\\n",
       "23753   stop your fucking spamming i have told you an...   \n",
       "\n",
       "                                          tokenized_text  \\\n",
       "23753  [[CLS], stop, your, fucking, spa, ##mming, i, ...   \n",
       "\n",
       "                                           tokens_tensor  \\\n",
       "23753  [[tensor(101), tensor(2644), tensor(2115), ten...   \n",
       "\n",
       "                                        segments_tensors  \\\n",
       "23753  [[tensor(1), tensor(1), tensor(1), tensor(1), ...   \n",
       "\n",
       "                                          bert_emmbeding  \n",
       "23753  [0.14338752627372742, -0.4059569239616394, -0....  "
      ]
     },
     "execution_count": 103,
     "metadata": {},
     "output_type": "execute_result"
    }
   ],
   "source": [
    "df['bert_emmbeding'] = df.progress_apply(lambda x: np.average(x['bert_emmbeding'][- dict_labels_len[x['label']]-1:-1], axis = 0), axis = 1)\n",
    "df.sample()"
   ]
  },
  {
   "cell_type": "markdown",
   "id": "8a4ef5c9",
   "metadata": {},
   "source": [
    "## BERT WITH SENTENCE EMMBEDINGS"
   ]
  },
  {
   "cell_type": "code",
   "execution_count": 104,
   "id": "4dcce6e6",
   "metadata": {},
   "outputs": [],
   "source": [
    "from sentence_transformers import SentenceTransformer\n",
    "model = SentenceTransformer('stsb-mpnet-base-v2')"
   ]
  },
  {
   "cell_type": "code",
   "execution_count": 105,
   "id": "13a98389",
   "metadata": {
    "tags": []
   },
   "outputs": [],
   "source": [
    "sentences = df['preprocessed_text'].to_numpy()\n",
    "sentence_embeddings = model.encode(sentences)"
   ]
  },
  {
   "cell_type": "code",
   "execution_count": 106,
   "id": "239a6f90",
   "metadata": {},
   "outputs": [],
   "source": [
    "df['bert_sentence_emm'] = sentence_embeddings.tolist()"
   ]
  },
  {
   "cell_type": "markdown",
   "id": "d6b56c2a",
   "metadata": {},
   "source": [
    "# ELMO"
   ]
  },
  {
   "cell_type": "code",
   "execution_count": 2,
   "id": "16c3e891",
   "metadata": {},
   "outputs": [],
   "source": [
    "df = pd.read_pickle('first.pkl')"
   ]
  },
  {
   "cell_type": "code",
   "execution_count": 3,
   "id": "e73e89c0",
   "metadata": {},
   "outputs": [],
   "source": [
    "import tensorflow as tf\n",
    "import tensorflow_hub as hub"
   ]
  },
  {
   "cell_type": "code",
   "execution_count": 4,
   "id": "c8d7522c",
   "metadata": {},
   "outputs": [],
   "source": [
    "elmo = hub.load(\"https://tfhub.dev/google/elmo/3\").signatures['default']"
   ]
  },
  {
   "cell_type": "code",
   "execution_count": 5,
   "id": "882596f3",
   "metadata": {},
   "outputs": [],
   "source": [
    "df = df.drop(['tokens_tensor', 'segments_tensors', 'tokenized_text', 'text'], axis = 1)"
   ]
  },
  {
   "cell_type": "code",
   "execution_count": 10,
   "id": "9c9dccda",
   "metadata": {},
   "outputs": [],
   "source": [
    "dfs = np.array_split(df, 600)"
   ]
  },
  {
   "cell_type": "code",
   "execution_count": null,
   "id": "5a28e911",
   "metadata": {
    "collapsed": true,
    "jupyter": {
     "outputs_hidden": true
    },
    "tags": []
   },
   "outputs": [
    {
     "name": "stderr",
     "output_type": "stream",
     "text": [
      "100%|████████████████████████████████████████████████████████████████████████████████████████████████████████████████████████████████████████████████████████████████████████████| 129/129 [00:00<00:00, 4299.94it/s]\n",
      "100%|███████████████████████████████████████████████████████████████████████████████████████████████████████████████████████████████████████████████████████████████████████████| 129/129 [00:00<00:00, 25803.10it/s]\n",
      "100%|███████████████████████████████████████████████████████████████████████████████████████████████████████████████████████████████████████████████████████████████████████████| 129/129 [00:00<00:00, 25930.47it/s]\n",
      "100%|███████████████████████████████████████████████████████████████████████████████████████████████████████████████████████████████████████████████████████████████████████████| 129/129 [00:00<00:00, 14332.47it/s]\n"
     ]
    },
    {
     "name": "stdout",
     "output_type": "stream",
     "text": [
      "0.0\n"
     ]
    },
    {
     "name": "stderr",
     "output_type": "stream",
     "text": [
      "100%|████████████████████████████████████████████████████████████████████████████████████████████████████████████████████████████████████████████████████████████████████████████| 129/129 [00:00<00:00, 2804.75it/s]\n",
      "100%|███████████████████████████████████████████████████████████████████████████████████████████████████████████████████████████████████████████████████████████████████████████| 129/129 [00:00<00:00, 16122.81it/s]\n",
      "100%|███████████████████████████████████████████████████████████████████████████████████████████████████████████████████████████████████████████████████████████████████████████| 129/129 [00:00<00:00, 12899.09it/s]\n",
      "100%|███████████████████████████████████████████████████████████████████████████████████████████████████████████████████████████████████████████████████████████████████████████| 129/129 [00:00<00:00, 16121.84it/s]\n"
     ]
    },
    {
     "name": "stdout",
     "output_type": "stream",
     "text": [
      "0.16666666666666669\n"
     ]
    },
    {
     "name": "stderr",
     "output_type": "stream",
     "text": [
      "100%|████████████████████████████████████████████████████████████████████████████████████████████████████████████████████████████████████████████████████████████████████████████| 129/129 [00:00<00:00, 4778.17it/s]\n",
      "100%|███████████████████████████████████████████████████████████████████████████████████████████████████████████████████████████████████████████████████████████████████████████| 129/129 [00:00<00:00, 25793.26it/s]\n",
      "100%|███████████████████████████████████████████████████████████████████████████████████████████████████████████████████████████████████████████████████████████████████████████| 129/129 [00:00<00:00, 18429.28it/s]\n",
      "100%|███████████████████████████████████████████████████████████████████████████████████████████████████████████████████████████████████████████████████████████████████████████| 129/129 [00:00<00:00, 21493.87it/s]\n"
     ]
    },
    {
     "name": "stdout",
     "output_type": "stream",
     "text": [
      "0.33333333333333337\n"
     ]
    }
   ],
   "source": [
    "all_cases = len(df)\n",
    "for i,small in enumerate(dfs):\n",
    "    start = time.time()\n",
    "    lst =  small['preprocessed_text'].tolist()\n",
    "    lst2 = small['appended'].tolist()\n",
    "    embeddings_words = elmo(tf.constant(lst))[\"elmo\"]\n",
    "    embeddings_sent = elmo(tf.constant(lst2))[\"default\"]\n",
    "    small['elmo_sentence'] = embeddings_sent.numpy().tolist()\n",
    "    small['elmo_word'] = embeddings_words.numpy().tolist()\n",
    "    small['idx'] = small.progress_apply(lambda x: len(x['appended'].split()), axis = 1)\n",
    "    small['shape'] = small.progress_apply(lambda x: len(x['elmo_word']), axis = 1)\n",
    "    small['idx'] = small.progress_apply(lambda x: min(x['idx'], x['shape']), axis = 1)\n",
    "    small['elmo_word'] = small.progress_apply(lambda x: x['elmo_word'][x['idx']-1], axis = 1)\n",
    "    small = small.drop([ 'idx', 'shape'], axis = 1)\n",
    "    print(i/len(dfs)*100)"
   ]
  },
  {
   "cell_type": "code",
   "execution_count": null,
   "id": "d2735afe",
   "metadata": {},
   "outputs": [],
   "source": [
    "embeddings_words.numpy().shape"
   ]
  },
  {
   "cell_type": "code",
   "execution_count": null,
   "id": "87e3c8a6",
   "metadata": {},
   "outputs": [],
   "source": [
    "embeddings_sent.numpy().shape"
   ]
  },
  {
   "cell_type": "markdown",
   "id": "e052d7fd",
   "metadata": {},
   "source": [
    "Just for last word (this is racist etc) embedding."
   ]
  },
  {
   "cell_type": "code",
   "execution_count": null,
   "id": "c9b5a4a8",
   "metadata": {},
   "outputs": [],
   "source": [
    "df['elmo_word'] = embeddings_words.numpy().tolist()\n",
    "df['elmo_word'] = df.progress_apply(lambda x: x['elmo_word'][x['idx']-1], axis = 1)"
   ]
  },
  {
   "cell_type": "code",
   "execution_count": null,
   "id": "ff8fd531",
   "metadata": {},
   "outputs": [],
   "source": [
    "df['elmo_sentence'] = embeddings_sent.numpy().tolist()"
   ]
  },
  {
   "cell_type": "code",
   "execution_count": null,
   "id": "1e112e6b",
   "metadata": {},
   "outputs": [],
   "source": [
    "df['idx'] = df.progress_apply(lambda x: len(x['appended'].split()), axis = 1)\n",
    "df['shape'] = df.progress_apply(lambda x: len(x['elmo_word']), axis = 1)\n",
    "df['idx'] = df.progress_apply(lambda x: min(x['idx'], x['shape']), axis = 1)"
   ]
  },
  {
   "cell_type": "code",
   "execution_count": null,
   "id": "65f9b24f",
   "metadata": {
    "tags": []
   },
   "outputs": [],
   "source": [
    "df.tail(2)"
   ]
  },
  {
   "cell_type": "code",
   "execution_count": null,
   "id": "09708f29",
   "metadata": {},
   "outputs": [],
   "source": [
    "df = df.drop(['elmo_words', 'idx', 'shape'], axis = 1)"
   ]
  },
  {
   "cell_type": "code",
   "execution_count": null,
   "id": "91659e90",
   "metadata": {},
   "outputs": [],
   "source": [
    "df"
   ]
  },
  {
   "cell_type": "code",
   "execution_count": null,
   "id": "2a49cba6",
   "metadata": {},
   "outputs": [],
   "source": [
    "df.to_pickle('elmobert.pkl')"
   ]
  }
 ],
 "metadata": {
  "kernelspec": {
   "display_name": "Python 3",
   "language": "python",
   "name": "python3"
  },
  "language_info": {
   "codemirror_mode": {
    "name": "ipython",
    "version": 3
   },
   "file_extension": ".py",
   "mimetype": "text/x-python",
   "name": "python",
   "nbconvert_exporter": "python",
   "pygments_lexer": "ipython3",
   "version": "3.8.8"
  }
 },
 "nbformat": 4,
 "nbformat_minor": 5
}
